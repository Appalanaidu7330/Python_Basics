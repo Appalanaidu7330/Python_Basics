{
 "cells": [
  {
   "cell_type": "markdown",
   "id": "0edbe14e-d224-4821-92c3-f0ab36e531ad",
   "metadata": {},
   "source": [
    "## PYTHON PROGRAMMING LANGUAGE \n"
   ]
  },
  {
   "cell_type": "markdown",
   "id": "3786f31b-02bb-413c-88c6-753b7129e0c8",
   "metadata": {},
   "source": [
    "Python Became the Best Programming Language & fastest programming language. Python is used in Machine Learning, Data Science, Big Data, Web Development, Scripting. we will learn pyton from start to end || basic to expert. if you are not done programm then that is totally fine. I will explain from starting from scratch. python software - pycharm || vs code || jupyter || spyder"
   ]
  },
  {
   "cell_type": "markdown",
   "id": "76bc42ac-a018-481a-83ff-58c7f83a2041",
   "metadata": {},
   "source": [
    "## PYTHON INTERPRETTER\n",
    "## IDE (INTEGRATED DEVELOPMENT ENVIRONMENT)"
   ]
  },
  {
   "cell_type": "markdown",
   "id": "9266e23c-c349-4d6b-811f-61f4a4b81b29",
   "metadata": {},
   "source": [
    "PYTHON INTERPRETER --> What is Python interpreter? A python interpreter is a computer program that converts each high-level program statement into machine code. An interpreter translates the command that you write out into code that the computer can understand\n",
    "\n",
    "PYTHON INTERPRETER EXAMPLE --> You write your Python code in a text file with a name like hello.py . How does that code Run? There is program installed on your computer named \"python3\" or \"python\", and its job is looking at and running your Python code. This type of program is called an \"interpreter\"."
   ]
  },
  {
   "cell_type": "markdown",
   "id": "9c88b098-220f-488e-a9af-6275fb570b02",
   "metadata": {},
   "source": [
    "IDE (INTEGRATED DEVELOPMENT ENVIRONMENT) =>\n",
    "- using IDE - one can write code, run the code, debug the code\n",
    "- IDE takes care of interpreting the Python code, running python scripts, building executables, and debugging the applications.\n",
    "- An IDE enables programmers to combine the different aspects of writing a computer program. \n",
    "- if you wnated to be python developer only then you need to install (IDE -- PYCHARM)"
   ]
  },
  {
   "cell_type": "markdown",
   "id": "cd5da935-f5fc-4ca4-a846-1680ccb72ccb",
   "metadata": {},
   "source": [
    "## PYTHON INTERPRETER & COMPILER"
   ]
  },
  {
   "cell_type": "markdown",
   "id": "c770bdb8-4428-4dca-9622-17ef87e4ab88",
   "metadata": {},
   "source": [
    "Both compilers and interpreters are used to convert a program written in a high-level language into machine code understood by computers.\n",
    "Interpreter -->\n",
    "- Translates program one statement at a time\n",
    "- Interpreter run every line item \n",
    "- Execut the single, partial line of code\n",
    "- Easy for programming \n",
    "\n",
    "Compiler -->\n",
    "- Scans the entire program and translates it as a whole into machine code.\n",
    "- No execution if an error occurs\n",
    "- you can not fix the bug (debug) line by line "
   ]
  },
  {
   "cell_type": "markdown",
   "id": "ef5e3e10-6c2e-405a-b2f4-7ac15ac1e8b0",
   "metadata": {},
   "source": [
    "Is Python an interpreter or compiler?\n",
    "Python is an interpreted language, which means the source code of a Python program is converted into bytecode that is then executed by the Python virtual machine. Python is different from major compiled languages, such as C and C + +, as Python code is not required to be built and linked like code for these languages."
   ]
  },
  {
   "cell_type": "markdown",
   "id": "0740e88b-c46a-4b30-9e85-d30d3b2af606",
   "metadata": {},
   "source": [
    "How to create python environment variable \n",
    "1- cmd - python ( if it not works)\n",
    "2- find the location where the python is installed -- >\n",
    "         C:\\Users\\kdata\\AppData\\Local\\Programs\\Python\\Python311\\Scripts \n",
    "3- system -- env - environment variable screen will pop up \n",
    "4- select on system variable - click on path - create New \n",
    "5- C:\\Users\\kdata\\AppData\\Local\\Programs\\Python\\Python311\n",
    "6- env - sys variable - path - new - C:\\Users\\kdata\\AppData\\Local\\Programs\\Python\\Python311\\Scripts\n",
    "7- cmd - type python -version\n",
    "8- successfully python install in cmd "
   ]
  },
  {
   "cell_type": "markdown",
   "id": "34ec403e-9af0-4e77-97f3-b4bc0f5578e1",
   "metadata": {},
   "source": [
    "## ANACONDA "
   ]
  },
  {
   "cell_type": "markdown",
   "id": "4fc26354-9bf5-4c5a-a8c8-52f137deb9cf",
   "metadata": {},
   "source": [
    "Anaconda is a distribution of the Python and R programming languages for scientific computing (data science, machine learning applications, large-scale data processing, predictive analytics, etc.), that aims to simplify package management and deployment."
   ]
  },
  {
   "cell_type": "markdown",
   "id": "a7ce89fc-b0ba-4667-8a9a-16b9b0b6151c",
   "metadata": {},
   "source": [
    "1 + 1 # ADDITION"
   ]
  },
  {
   "cell_type": "code",
   "execution_count": 13,
   "id": "78cde7bf-350a-49af-a76a-50f463b2c8d1",
   "metadata": {},
   "outputs": [
    {
     "data": {
      "text/plain": [
       "7"
      ]
     },
     "execution_count": 13,
     "metadata": {},
     "output_type": "execute_result"
    }
   ],
   "source": [
    "2+5\n"
   ]
  },
  {
   "cell_type": "code",
   "execution_count": 14,
   "id": "47c7fb60-e2ad-456e-aa4a-c50c7b32b196",
   "metadata": {},
   "outputs": [
    {
     "data": {
      "text/plain": [
       "3"
      ]
     },
     "execution_count": 14,
     "metadata": {},
     "output_type": "execute_result"
    }
   ],
   "source": [
    "9-6"
   ]
  },
  {
   "cell_type": "code",
   "execution_count": 15,
   "id": "ec0d7903-d8bd-4947-b6ce-e0a0ffcba331",
   "metadata": {},
   "outputs": [
    {
     "data": {
      "text/plain": [
       "45"
      ]
     },
     "execution_count": 15,
     "metadata": {},
     "output_type": "execute_result"
    }
   ],
   "source": [
    "9*5"
   ]
  },
  {
   "cell_type": "code",
   "execution_count": 16,
   "id": "66e6248b-54fb-4fd1-9f3f-56cbdd9edc25",
   "metadata": {},
   "outputs": [
    {
     "data": {
      "text/plain": [
       "11.0"
      ]
     },
     "execution_count": 16,
     "metadata": {},
     "output_type": "execute_result"
    }
   ],
   "source": [
    "55/5 #division"
   ]
  },
  {
   "cell_type": "code",
   "execution_count": 17,
   "id": "570e84bc-d656-45a8-a495-c1c6e2425785",
   "metadata": {},
   "outputs": [
    {
     "data": {
      "text/plain": [
       "11.0"
      ]
     },
     "execution_count": 17,
     "metadata": {},
     "output_type": "execute_result"
    }
   ],
   "source": [
    "55/5 #float division"
   ]
  },
  {
   "cell_type": "code",
   "execution_count": 18,
   "id": "4f67ff03-4d9a-46de-a608-e7c89e22c64e",
   "metadata": {},
   "outputs": [
    {
     "data": {
      "text/plain": [
       "3"
      ]
     },
     "execution_count": 18,
     "metadata": {},
     "output_type": "execute_result"
    }
   ],
   "source": [
    "9//3 #integer division"
   ]
  },
  {
   "cell_type": "code",
   "execution_count": 19,
   "id": "441ce72a-c561-484f-ae77-c07ebc845456",
   "metadata": {},
   "outputs": [
    {
     "ename": "SyntaxError",
     "evalue": "invalid syntax (3646816518.py, line 1)",
     "output_type": "error",
     "traceback": [
      "\u001b[1;36m  Cell \u001b[1;32mIn[19], line 1\u001b[1;36m\u001b[0m\n\u001b[1;33m    9+8- #synatax error\u001b[0m\n\u001b[1;37m         ^\u001b[0m\n\u001b[1;31mSyntaxError\u001b[0m\u001b[1;31m:\u001b[0m invalid syntax\n"
     ]
    }
   ],
   "source": [
    "9+8- #synatax error"
   ]
  },
  {
   "cell_type": "code",
   "execution_count": 183,
   "id": "d5fbd84f-d5c2-4edb-92a4-06168324dd83",
   "metadata": {},
   "outputs": [
    {
     "data": {
      "text/plain": [
       "19"
      ]
     },
     "execution_count": 183,
     "metadata": {},
     "output_type": "execute_result"
    }
   ],
   "source": [
    "9+10"
   ]
  },
  {
   "cell_type": "code",
   "execution_count": 185,
   "id": "865bec91-404a-4aa2-aa8b-7766cc963bf0",
   "metadata": {},
   "outputs": [
    {
     "data": {
      "text/plain": [
       "27"
      ]
     },
     "execution_count": 185,
     "metadata": {},
     "output_type": "execute_result"
    }
   ],
   "source": [
    "9+9*2"
   ]
  },
  {
   "cell_type": "code",
   "execution_count": 187,
   "id": "e21fdf0c-52ae-4210-b340-6304c2a84861",
   "metadata": {},
   "outputs": [
    {
     "data": {
      "text/plain": [
       "90"
      ]
     },
     "execution_count": 187,
     "metadata": {},
     "output_type": "execute_result"
    }
   ],
   "source": [
    "(9+9)*5 # BODMAS (Bracket || Oders || Divide || Multiply || Add || Substact)"
   ]
  },
  {
   "cell_type": "code",
   "execution_count": 189,
   "id": "3fb0cb12-b715-4a01-832b-b047f7811b17",
   "metadata": {},
   "outputs": [
    {
     "data": {
      "text/plain": [
       "3125"
      ]
     },
     "execution_count": 189,
     "metadata": {},
     "output_type": "execute_result"
    }
   ],
   "source": [
    "5*5*5*5*5 # exponentaion"
   ]
  },
  {
   "cell_type": "code",
   "execution_count": 191,
   "id": "860a3e37-54b6-4070-87ab-dc09612f8591",
   "metadata": {},
   "outputs": [
    {
     "data": {
      "text/plain": [
       "25"
      ]
     },
     "execution_count": 191,
     "metadata": {},
     "output_type": "execute_result"
    }
   ],
   "source": [
    "5**2"
   ]
  },
  {
   "cell_type": "code",
   "execution_count": 193,
   "id": "1b590501-439e-4c67-a178-0bb313d9ad61",
   "metadata": {},
   "outputs": [
    {
     "data": {
      "text/plain": [
       "4.0"
      ]
     },
     "execution_count": 193,
     "metadata": {},
     "output_type": "execute_result"
    }
   ],
   "source": [
    "20/5"
   ]
  },
  {
   "cell_type": "code",
   "execution_count": 195,
   "id": "04ef8f5a-8c4a-4a51-bf27-191a545910be",
   "metadata": {},
   "outputs": [
    {
     "data": {
      "text/plain": [
       "3"
      ]
     },
     "execution_count": 195,
     "metadata": {},
     "output_type": "execute_result"
    }
   ],
   "source": [
    "10//3"
   ]
  },
  {
   "cell_type": "code",
   "execution_count": 197,
   "id": "cdba94f5-98d2-4518-91e0-88a3a2a10bfd",
   "metadata": {},
   "outputs": [
    {
     "data": {
      "text/plain": [
       "0"
      ]
     },
     "execution_count": 197,
     "metadata": {},
     "output_type": "execute_result"
    }
   ],
   "source": [
    "50%5 # Modulus"
   ]
  },
  {
   "cell_type": "code",
   "execution_count": 199,
   "id": "93425656-b4f9-414d-82a7-1d6fb6b4b2b6",
   "metadata": {},
   "outputs": [
    {
     "data": {
      "text/plain": [
       "0"
      ]
     },
     "execution_count": 199,
     "metadata": {},
     "output_type": "execute_result"
    }
   ],
   "source": [
    "18%2"
   ]
  },
  {
   "cell_type": "code",
   "execution_count": null,
   "id": "bedb83bb-d82d-4378-bd05-d1322e3fcabe",
   "metadata": {},
   "outputs": [],
   "source": []
  },
  {
   "cell_type": "code",
   "execution_count": 202,
   "id": "3e14e9a5-4ee0-4d5a-bed2-49b3cc966fe7",
   "metadata": {},
   "outputs": [
    {
     "name": "stdout",
     "output_type": "stream",
     "text": [
      "9\n",
      "7.3\n",
      "naidu\n",
      "(9+5j)\n",
      "True\n"
     ]
    }
   ],
   "source": [
    "a,b,c,d,e=9,7.3,'naidu',9+5j,True\n",
    "print(a)\n",
    "print(b)\n",
    "print(c)\n",
    "print(d)\n",
    "print(e)"
   ]
  },
  {
   "cell_type": "code",
   "execution_count": 204,
   "id": "c866a634-ce2c-4ed0-9fa5-18f44e4c58cc",
   "metadata": {},
   "outputs": [
    {
     "name": "stdout",
     "output_type": "stream",
     "text": [
      "<class 'int'>\n",
      "<class 'float'>\n",
      "<class 'str'>\n",
      "<class 'complex'>\n",
      "<class 'bool'>\n"
     ]
    }
   ],
   "source": [
    "print(type(a))\n",
    "print(type(b))\n",
    "print(type(c))\n",
    "print(type(d))\n",
    "print(type(e))"
   ]
  },
  {
   "cell_type": "code",
   "execution_count": 206,
   "id": "67f7abdb-0f76-4698-9dcb-53a88a312e00",
   "metadata": {},
   "outputs": [
    {
     "data": {
      "text/plain": [
       "str"
      ]
     },
     "execution_count": 206,
     "metadata": {},
     "output_type": "execute_result"
    }
   ],
   "source": [
    "type(c)"
   ]
  },
  {
   "cell_type": "markdown",
   "id": "5ce4e733-27a3-40c7-8a62-38d20c42225a",
   "metadata": {},
   "source": [
    "- So far we code with numbers(integer) \n",
    "- Lets work with string "
   ]
  },
  {
   "cell_type": "code",
   "execution_count": 209,
   "id": "1ea79fe1-b8d8-46e2-a3f3-add41d59b497",
   "metadata": {},
   "outputs": [
    {
     "data": {
      "text/plain": [
       "'Naresh IT'"
      ]
     },
     "execution_count": 209,
     "metadata": {},
     "output_type": "execute_result"
    }
   ],
   "source": [
    "'Naresh IT'"
   ]
  },
  {
   "cell_type": "markdown",
   "id": "88989b4a-1e24-4c03-a76e-e1be302bee11",
   "metadata": {},
   "source": [
    "python inbuild function - print & you need to pass the parameter in print()\n",
    "\n",
    "A function is a block of code which only runs when it is called. You can pass data, known as parameters, into a function. A function can return data as a result."
   ]
  },
  {
   "cell_type": "code",
   "execution_count": 212,
   "id": "6f57afdc-2230-4843-a3b4-7432a25db8cf",
   "metadata": {},
   "outputs": [
    {
     "name": "stdout",
     "output_type": "stream",
     "text": [
      "naresh it\n"
     ]
    }
   ],
   "source": [
    "print('naresh it')"
   ]
  },
  {
   "cell_type": "code",
   "execution_count": 214,
   "id": "e74fcf0d-c0d8-4df8-aed1-4912d79468e4",
   "metadata": {},
   "outputs": [
    {
     "data": {
      "text/plain": [
       "'it technology'"
      ]
     },
     "execution_count": 214,
     "metadata": {},
     "output_type": "execute_result"
    }
   ],
   "source": [
    "\"it technology\""
   ]
  },
  {
   "cell_type": "code",
   "execution_count": 216,
   "id": "bf464c34-c57c-45ce-8d5f-07b1b6bd07d4",
   "metadata": {},
   "outputs": [
    {
     "data": {
      "text/plain": [
       "'naresh it'"
      ]
     },
     "execution_count": 216,
     "metadata": {},
     "output_type": "execute_result"
    }
   ],
   "source": [
    "s1='naresh it'\n",
    "s1"
   ]
  },
  {
   "cell_type": "code",
   "execution_count": 218,
   "id": "8ad6ebad-3a9c-42ee-ba22-5d919b0906ec",
   "metadata": {},
   "outputs": [],
   "source": [
    "a=2\n",
    "b=5"
   ]
  },
  {
   "cell_type": "code",
   "execution_count": 220,
   "id": "e0185aa8-0c50-4986-8499-90a26cdea69f",
   "metadata": {},
   "outputs": [
    {
     "data": {
      "text/plain": [
       "7"
      ]
     },
     "execution_count": 220,
     "metadata": {},
     "output_type": "execute_result"
    }
   ],
   "source": [
    "c=a+b\n",
    "c"
   ]
  },
  {
   "cell_type": "code",
   "execution_count": 222,
   "id": "08d6efdf-aa6f-4f6e-903a-ae6df593e402",
   "metadata": {},
   "outputs": [
    {
     "data": {
      "text/plain": [
       "str"
      ]
     },
     "execution_count": 222,
     "metadata": {},
     "output_type": "execute_result"
    }
   ],
   "source": [
    "a=3\n",
    "b='hi'\n",
    "type(b)\n"
   ]
  },
  {
   "cell_type": "code",
   "execution_count": 224,
   "id": "dd29d365-2030-456b-92b5-e9a3a0c6d908",
   "metadata": {},
   "outputs": [
    {
     "ename": "TypeError",
     "evalue": "unsupported operand type(s) for +: 'int' and 'str'",
     "output_type": "error",
     "traceback": [
      "\u001b[1;31m---------------------------------------------------------------------------\u001b[0m",
      "\u001b[1;31mTypeError\u001b[0m                                 Traceback (most recent call last)",
      "Cell \u001b[1;32mIn[224], line 1\u001b[0m\n\u001b[1;32m----> 1\u001b[0m a\u001b[38;5;241m+\u001b[39mb\n",
      "\u001b[1;31mTypeError\u001b[0m: unsupported operand type(s) for +: 'int' and 'str'"
     ]
    }
   ],
   "source": [
    "a+b"
   ]
  },
  {
   "cell_type": "code",
   "execution_count": null,
   "id": "d8e7cd94-08e1-445e-93d5-b5fbb5611f7c",
   "metadata": {},
   "outputs": [],
   "source": [
    "print('naresh it's 'Technology')"
   ]
  },
  {
   "cell_type": "code",
   "execution_count": null,
   "id": "34d7eb12-8a53-4801-b3c7-d5b7c172b06b",
   "metadata": {},
   "outputs": [],
   "source": [
    "print('naresh it\\'s\"Tecnology\"')  #\\ has some special meaning to ignore the error"
   ]
  },
  {
   "cell_type": "code",
   "execution_count": null,
   "id": "43ffd302-b95e-4e76-977a-182c8296f6cb",
   "metadata": {},
   "outputs": [],
   "source": [
    "print('naresh it', 'Technology')"
   ]
  },
  {
   "cell_type": "code",
   "execution_count": null,
   "id": "0152ca8b-7040-48bd-9596-47fc4917fef9",
   "metadata": {},
   "outputs": [],
   "source": [
    "#print the nit 2 times"
   ]
  },
  {
   "cell_type": "code",
   "execution_count": 230,
   "id": "8df6d223-0768-48f7-a7fc-0ffb165753ee",
   "metadata": {},
   "outputs": [
    {
     "data": {
      "text/plain": [
       "'nitnit'"
      ]
     },
     "execution_count": 230,
     "metadata": {},
     "output_type": "execute_result"
    }
   ],
   "source": [
    "'nit' + 'nit'"
   ]
  },
  {
   "cell_type": "code",
   "execution_count": 232,
   "id": "cf0f7714-9b4f-420f-952d-ab1a8d4fd86f",
   "metadata": {},
   "outputs": [
    {
     "data": {
      "text/plain": [
       "'nitnitnitnitnit'"
      ]
     },
     "execution_count": 232,
     "metadata": {},
     "output_type": "execute_result"
    }
   ],
   "source": [
    "# 5 times print\n",
    "5* 'nit'"
   ]
  },
  {
   "cell_type": "code",
   "execution_count": 234,
   "id": "d79ea0e9-da0c-4b57-9c88-0b41f4d1d7ce",
   "metadata": {},
   "outputs": [
    {
     "data": {
      "text/plain": [
       "' nit nit nit nit nit'"
      ]
     },
     "execution_count": 234,
     "metadata": {},
     "output_type": "execute_result"
    }
   ],
   "source": [
    "5*' nit'"
   ]
  },
  {
   "cell_type": "code",
   "execution_count": 236,
   "id": "7c727f8d-69da-4a1b-b6d8-7df42b5ef72d",
   "metadata": {},
   "outputs": [
    {
     "name": "stdout",
     "output_type": "stream",
     "text": [
      "c:\n",
      "it\n"
     ]
    }
   ],
   "source": [
    "print('c:\\nit')"
   ]
  },
  {
   "cell_type": "code",
   "execution_count": 238,
   "id": "d4601ce2-c78d-4b6c-99c2-41d2b695089a",
   "metadata": {},
   "outputs": [
    {
     "name": "stdout",
     "output_type": "stream",
     "text": [
      "c:\\nit\n"
     ]
    }
   ],
   "source": [
    "print(r'c:\\nit')"
   ]
  },
  {
   "cell_type": "markdown",
   "id": "6f2783f4-b220-4cc9-b2d6-704ab429679e",
   "metadata": {},
   "source": [
    "## variable || identifier || object\n"
   ]
  },
  {
   "cell_type": "code",
   "execution_count": 241,
   "id": "ff8862b5-7ad7-4be0-80d8-7747671b0955",
   "metadata": {},
   "outputs": [
    {
     "data": {
      "text/plain": [
       "2"
      ]
     },
     "execution_count": 241,
     "metadata": {},
     "output_type": "execute_result"
    }
   ],
   "source": [
    "#x is variable/identifier/object, 2 is the value\n",
    "x=2\n",
    "x"
   ]
  },
  {
   "cell_type": "code",
   "execution_count": 243,
   "id": "27e7a7bd-735e-4b50-ad76-a9d20762dba4",
   "metadata": {},
   "outputs": [
    {
     "data": {
      "text/plain": [
       "7"
      ]
     },
     "execution_count": 243,
     "metadata": {},
     "output_type": "execute_result"
    }
   ],
   "source": [
    "x+5"
   ]
  },
  {
   "cell_type": "code",
   "execution_count": 245,
   "id": "1869ee48-5dff-4dec-ae75-ca6cf4a3bdd8",
   "metadata": {},
   "outputs": [
    {
     "data": {
      "text/plain": [
       "3"
      ]
     },
     "execution_count": 245,
     "metadata": {},
     "output_type": "execute_result"
    }
   ],
   "source": [
    "y=3\n",
    "y"
   ]
  },
  {
   "cell_type": "code",
   "execution_count": 247,
   "id": "fd8711c5-8166-4a31-8a46-895db3d1a3ef",
   "metadata": {},
   "outputs": [
    {
     "data": {
      "text/plain": [
       "5"
      ]
     },
     "execution_count": 247,
     "metadata": {},
     "output_type": "execute_result"
    }
   ],
   "source": [
    "x+y"
   ]
  },
  {
   "cell_type": "code",
   "execution_count": 249,
   "id": "3d1cb000-2c55-44b1-adb5-17a081ca29f0",
   "metadata": {},
   "outputs": [
    {
     "data": {
      "text/plain": [
       "14"
      ]
     },
     "execution_count": 249,
     "metadata": {},
     "output_type": "execute_result"
    }
   ],
   "source": [
    "x+12"
   ]
  },
  {
   "cell_type": "code",
   "execution_count": 251,
   "id": "f6d5566b-7379-4d12-b6ef-ea5c7983f686",
   "metadata": {},
   "outputs": [
    {
     "data": {
      "text/plain": [
       "3"
      ]
     },
     "execution_count": 251,
     "metadata": {},
     "output_type": "execute_result"
    }
   ],
   "source": [
    "y"
   ]
  },
  {
   "cell_type": "code",
   "execution_count": 253,
   "id": "54c14e64-bde0-4ac1-bcef-f07002848d64",
   "metadata": {},
   "outputs": [
    {
     "data": {
      "text/plain": [
       "3"
      ]
     },
     "execution_count": 253,
     "metadata": {},
     "output_type": "execute_result"
    }
   ],
   "source": [
    "+y"
   ]
  },
  {
   "cell_type": "code",
   "execution_count": 255,
   "id": "d69127c8-920d-4f38-b9e8-f12112dfb686",
   "metadata": {},
   "outputs": [
    {
     "data": {
      "text/plain": [
       "'naveen'"
      ]
     },
     "execution_count": 255,
     "metadata": {},
     "output_type": "execute_result"
    }
   ],
   "source": [
    "# string variable \n",
    "name='naveen'\n",
    "name"
   ]
  },
  {
   "cell_type": "code",
   "execution_count": 257,
   "id": "22448620-0559-41a9-9470-ab8f1498e432",
   "metadata": {},
   "outputs": [
    {
     "data": {
      "text/plain": [
       "'naveen'"
      ]
     },
     "execution_count": 257,
     "metadata": {},
     "output_type": "execute_result"
    }
   ],
   "source": [
    "name"
   ]
  },
  {
   "cell_type": "code",
   "execution_count": 259,
   "id": "c62cdbb1-879e-4cd0-8550-c6239cd62f81",
   "metadata": {},
   "outputs": [
    {
     "data": {
      "text/plain": [
       "'naveenRam it'"
      ]
     },
     "execution_count": 259,
     "metadata": {},
     "output_type": "execute_result"
    }
   ],
   "source": [
    "name +'Ram it'"
   ]
  },
  {
   "cell_type": "code",
   "execution_count": 261,
   "id": "983a13c2-4172-4afb-86eb-1b3d7976abf0",
   "metadata": {},
   "outputs": [
    {
     "data": {
      "text/plain": [
       "'naveen'"
      ]
     },
     "execution_count": 261,
     "metadata": {},
     "output_type": "execute_result"
    }
   ],
   "source": [
    "name"
   ]
  },
  {
   "cell_type": "code",
   "execution_count": 263,
   "id": "f86cfd73-a87e-4aca-b111-e58b12f74571",
   "metadata": {},
   "outputs": [
    {
     "data": {
      "text/plain": [
       "6"
      ]
     },
     "execution_count": 263,
     "metadata": {},
     "output_type": "execute_result"
    }
   ],
   "source": [
    "len(name)"
   ]
  },
  {
   "cell_type": "code",
   "execution_count": 265,
   "id": "ce93718a-8cf9-4ec4-ac7a-a81fdf56dd35",
   "metadata": {},
   "outputs": [
    {
     "data": {
      "text/plain": [
       "'v'"
      ]
     },
     "execution_count": 265,
     "metadata": {},
     "output_type": "execute_result"
    }
   ],
   "source": [
    "name[2] #python index begins with 0"
   ]
  },
  {
   "cell_type": "code",
   "execution_count": 267,
   "id": "9fa0252f-5297-4b3c-8647-427edde44863",
   "metadata": {},
   "outputs": [
    {
     "data": {
      "text/plain": [
       "'n'"
      ]
     },
     "execution_count": 267,
     "metadata": {},
     "output_type": "execute_result"
    }
   ],
   "source": [
    "name[0]"
   ]
  },
  {
   "cell_type": "code",
   "execution_count": 269,
   "id": "de81a0e1-ffe7-4835-ad2d-c61ae2bae21f",
   "metadata": {},
   "outputs": [
    {
     "data": {
      "text/plain": [
       "'a'"
      ]
     },
     "execution_count": 269,
     "metadata": {},
     "output_type": "execute_result"
    }
   ],
   "source": [
    "name[1]"
   ]
  },
  {
   "cell_type": "code",
   "execution_count": 271,
   "id": "04acf685-b552-45de-a1a9-4e1715810590",
   "metadata": {},
   "outputs": [
    {
     "data": {
      "text/plain": [
       "'n'"
      ]
     },
     "execution_count": 271,
     "metadata": {},
     "output_type": "execute_result"
    }
   ],
   "source": [
    "name[-1]"
   ]
  },
  {
   "cell_type": "code",
   "execution_count": 273,
   "id": "3e2a7eda-1881-42c9-a0a6-af0c39407045",
   "metadata": {},
   "outputs": [
    {
     "data": {
      "text/plain": [
       "'e'"
      ]
     },
     "execution_count": 273,
     "metadata": {},
     "output_type": "execute_result"
    }
   ],
   "source": [
    "name[-3]"
   ]
  },
  {
   "cell_type": "code",
   "execution_count": 275,
   "id": "6a8a9170-c97c-467e-892a-b684586f8a90",
   "metadata": {},
   "outputs": [
    {
     "data": {
      "text/plain": [
       "'e'"
      ]
     },
     "execution_count": 275,
     "metadata": {},
     "output_type": "execute_result"
    }
   ],
   "source": [
    "name[-2]"
   ]
  },
  {
   "cell_type": "markdown",
   "id": "862a76b2-f764-4960-b72e-da2690cbd061",
   "metadata": {},
   "source": [
    "##  slicing "
   ]
  },
  {
   "cell_type": "code",
   "execution_count": 278,
   "id": "9e19dc5a-0fdf-470c-9f6d-ae3496bda8c2",
   "metadata": {},
   "outputs": [
    {
     "data": {
      "text/plain": [
       "'na'"
      ]
     },
     "execution_count": 278,
     "metadata": {},
     "output_type": "execute_result"
    }
   ],
   "source": [
    "#to print 2 character\n",
    "name\n",
    "name[0:2]"
   ]
  },
  {
   "cell_type": "code",
   "execution_count": 280,
   "id": "5c62093f-72d0-416b-9483-887250cde2fb",
   "metadata": {},
   "outputs": [
    {
     "data": {
      "text/plain": [
       "'ave'"
      ]
     },
     "execution_count": 280,
     "metadata": {},
     "output_type": "execute_result"
    }
   ],
   "source": [
    "name[1:4]"
   ]
  },
  {
   "cell_type": "code",
   "execution_count": 282,
   "id": "087ad867-d6a1-4040-b514-4b5e102c5953",
   "metadata": {},
   "outputs": [
    {
     "data": {
      "text/plain": [
       "'nave'"
      ]
     },
     "execution_count": 282,
     "metadata": {},
     "output_type": "execute_result"
    }
   ],
   "source": [
    "name[0:4]"
   ]
  },
  {
   "cell_type": "code",
   "execution_count": 284,
   "id": "00a6b419-be3b-4b75-a02e-14ce5fb29e8c",
   "metadata": {},
   "outputs": [
    {
     "data": {
      "text/plain": [
       "'aveen'"
      ]
     },
     "execution_count": 284,
     "metadata": {},
     "output_type": "execute_result"
    }
   ],
   "source": [
    "name[1:]"
   ]
  },
  {
   "cell_type": "markdown",
   "id": "f329a5e2-4cc3-4099-b20f-e8a4d390318e",
   "metadata": {},
   "source": [
    "name[2:]"
   ]
  },
  {
   "cell_type": "code",
   "execution_count": 287,
   "id": "43308c68-dfd6-4d39-b8b8-d593d2237590",
   "metadata": {},
   "outputs": [
    {
     "data": {
      "text/plain": [
       "'veen'"
      ]
     },
     "execution_count": 287,
     "metadata": {},
     "output_type": "execute_result"
    }
   ],
   "source": [
    "name[2:]"
   ]
  },
  {
   "cell_type": "code",
   "execution_count": 289,
   "id": "dab49158-ffda-41ad-a7a0-39d03d77bc4f",
   "metadata": {},
   "outputs": [
    {
     "data": {
      "text/plain": [
       "'een'"
      ]
     },
     "execution_count": 289,
     "metadata": {},
     "output_type": "execute_result"
    }
   ],
   "source": [
    "name[3:]"
   ]
  },
  {
   "cell_type": "code",
   "execution_count": 291,
   "id": "479ae2fb-d0e7-472c-ac01-af298fa1a83b",
   "metadata": {},
   "outputs": [
    {
     "data": {
      "text/plain": [
       "'mine'"
      ]
     },
     "execution_count": 291,
     "metadata": {},
     "output_type": "execute_result"
    }
   ],
   "source": [
    "name1='mine'\n",
    "name1"
   ]
  },
  {
   "cell_type": "code",
   "execution_count": 293,
   "id": "680767a2-7939-4424-8498-3c61eff9ace2",
   "metadata": {},
   "outputs": [
    {
     "data": {
      "text/plain": [
       "'m'"
      ]
     },
     "execution_count": 293,
     "metadata": {},
     "output_type": "execute_result"
    }
   ],
   "source": [
    "name1[0:1]"
   ]
  },
  {
   "cell_type": "code",
   "execution_count": 295,
   "id": "9f57aae2-f0f5-4bea-9614-5073365a1b66",
   "metadata": {},
   "outputs": [
    {
     "data": {
      "text/plain": [
       "'m'"
      ]
     },
     "execution_count": 295,
     "metadata": {},
     "output_type": "execute_result"
    }
   ],
   "source": [
    "name1[0:1]"
   ]
  },
  {
   "cell_type": "code",
   "execution_count": 297,
   "id": "6e45baf1-5bf9-4e2d-876d-6db3d11d192c",
   "metadata": {},
   "outputs": [
    {
     "data": {
      "text/plain": [
       "''"
      ]
     },
     "execution_count": 297,
     "metadata": {},
     "output_type": "execute_result"
    }
   ],
   "source": [
    "name[1:0]"
   ]
  },
  {
   "cell_type": "code",
   "execution_count": 299,
   "id": "8a68b1c0-8b09-4d7c-8e28-c2d42cf2ead5",
   "metadata": {},
   "outputs": [
    {
     "data": {
      "text/plain": [
       "'naidu'"
      ]
     },
     "execution_count": 299,
     "metadata": {},
     "output_type": "execute_result"
    }
   ],
   "source": [
    "name1='naidu'\n",
    "name1"
   ]
  },
  {
   "cell_type": "code",
   "execution_count": 301,
   "id": "76aae180-a16a-46f0-8110-e52890dd9414",
   "metadata": {},
   "outputs": [
    {
     "data": {
      "text/plain": [
       "'n'"
      ]
     },
     "execution_count": 301,
     "metadata": {},
     "output_type": "execute_result"
    }
   ],
   "source": [
    "name1[0:1]"
   ]
  },
  {
   "cell_type": "code",
   "execution_count": 303,
   "id": "fbe15655-c9c4-47d5-8796-9b112260173b",
   "metadata": {},
   "outputs": [
    {
     "data": {
      "text/plain": [
       "'n'"
      ]
     },
     "execution_count": 303,
     "metadata": {},
     "output_type": "execute_result"
    }
   ],
   "source": [
    "name1[0]"
   ]
  },
  {
   "cell_type": "code",
   "execution_count": 305,
   "id": "1b3a2699-a485-4531-8b73-ccdbba60e7bf",
   "metadata": {},
   "outputs": [
    {
     "data": {
      "text/plain": [
       "'naidu'"
      ]
     },
     "execution_count": 305,
     "metadata": {},
     "output_type": "execute_result"
    }
   ],
   "source": [
    "name1"
   ]
  },
  {
   "cell_type": "code",
   "execution_count": 307,
   "id": "7bb0760e-e7d9-4354-88e9-6facb83a562e",
   "metadata": {},
   "outputs": [
    {
     "data": {
      "text/plain": [
       "'aidu'"
      ]
     },
     "execution_count": 307,
     "metadata": {},
     "output_type": "execute_result"
    }
   ],
   "source": [
    "name1[1:]"
   ]
  },
  {
   "cell_type": "code",
   "execution_count": 309,
   "id": "af4ce3a4-536c-40da-8cdd-b144ecd56bae",
   "metadata": {},
   "outputs": [
    {
     "data": {
      "text/plain": [
       "'naidu'"
      ]
     },
     "execution_count": 309,
     "metadata": {},
     "output_type": "execute_result"
    }
   ],
   "source": [
    "name1[0:]"
   ]
  },
  {
   "cell_type": "code",
   "execution_count": 311,
   "id": "0d09888d-852c-4385-8078-a258e579b5ed",
   "metadata": {},
   "outputs": [
    {
     "data": {
      "text/plain": [
       "'idu'"
      ]
     },
     "execution_count": 311,
     "metadata": {},
     "output_type": "execute_result"
    }
   ],
   "source": [
    "name1[2:]"
   ]
  },
  {
   "cell_type": "code",
   "execution_count": 313,
   "id": "366de421-1a22-4f1d-b45b-b30d84dc85fd",
   "metadata": {},
   "outputs": [
    {
     "data": {
      "text/plain": [
       "'du'"
      ]
     },
     "execution_count": 313,
     "metadata": {},
     "output_type": "execute_result"
    }
   ],
   "source": [
    "name1[3:]"
   ]
  },
  {
   "cell_type": "code",
   "execution_count": 315,
   "id": "818337ad-77d4-47bb-a90c-345b304ff891",
   "metadata": {},
   "outputs": [
    {
     "data": {
      "text/plain": [
       "'u'"
      ]
     },
     "execution_count": 315,
     "metadata": {},
     "output_type": "execute_result"
    }
   ],
   "source": [
    "name1[4:]"
   ]
  },
  {
   "cell_type": "code",
   "execution_count": 317,
   "id": "e223f648-165e-48b0-ada0-3672c480c6f5",
   "metadata": {},
   "outputs": [
    {
     "data": {
      "text/plain": [
       "'maidu'"
      ]
     },
     "execution_count": 317,
     "metadata": {},
     "output_type": "execute_result"
    }
   ],
   "source": [
    "'m'+name1[1:]  #i want to change fine to dine"
   ]
  },
  {
   "cell_type": "code",
   "execution_count": 319,
   "id": "df8e21d1-1b91-4ab0-a7e1-a2f510f1fe18",
   "metadata": {},
   "outputs": [
    {
     "data": {
      "text/plain": [
       "5"
      ]
     },
     "execution_count": 319,
     "metadata": {},
     "output_type": "execute_result"
    }
   ],
   "source": [
    "len(name1) #python inbuild function "
   ]
  },
  {
   "cell_type": "markdown",
   "id": "5ec2b94b-8aae-448b-a15d-79b0c37e0f29",
   "metadata": {},
   "source": [
    "## List "
   ]
  },
  {
   "cell_type": "code",
   "execution_count": 322,
   "id": "b22b17a7-43b5-4826-979a-19ac2e8cd3fc",
   "metadata": {},
   "outputs": [
    {
     "data": {
      "text/plain": [
       "[10, 20, 30, 40]"
      ]
     },
     "execution_count": 322,
     "metadata": {},
     "output_type": "execute_result"
    }
   ],
   "source": [
    "# List\n",
    "nums=[10,20,30,40]\n",
    "nums"
   ]
  },
  {
   "cell_type": "code",
   "execution_count": 324,
   "id": "07204ff2-e6a6-477d-9008-9a3d7650a12b",
   "metadata": {},
   "outputs": [
    {
     "data": {
      "text/plain": [
       "10"
      ]
     },
     "execution_count": 324,
     "metadata": {},
     "output_type": "execute_result"
    }
   ],
   "source": [
    "nums[0]"
   ]
  },
  {
   "cell_type": "code",
   "execution_count": 326,
   "id": "599a07ac-40be-40ef-809a-1cbf4959423c",
   "metadata": {},
   "outputs": [
    {
     "data": {
      "text/plain": [
       "20"
      ]
     },
     "execution_count": 326,
     "metadata": {},
     "output_type": "execute_result"
    }
   ],
   "source": [
    "nums[1]"
   ]
  },
  {
   "cell_type": "code",
   "execution_count": 328,
   "id": "c74bccd0-85cc-4a37-b5be-c6a56a9772e8",
   "metadata": {},
   "outputs": [
    {
     "data": {
      "text/plain": [
       "40"
      ]
     },
     "execution_count": 328,
     "metadata": {},
     "output_type": "execute_result"
    }
   ],
   "source": [
    "nums[3]"
   ]
  },
  {
   "cell_type": "code",
   "execution_count": 330,
   "id": "1c415379-4aa1-4352-8648-2ca661ae8420",
   "metadata": {},
   "outputs": [
    {
     "data": {
      "text/plain": [
       "40"
      ]
     },
     "execution_count": 330,
     "metadata": {},
     "output_type": "execute_result"
    }
   ],
   "source": [
    "nums[-1]"
   ]
  },
  {
   "cell_type": "code",
   "execution_count": 332,
   "id": "53c54af9-e4ab-4071-a4ce-96e5c32ef9bc",
   "metadata": {},
   "outputs": [
    {
     "data": {
      "text/plain": [
       "10"
      ]
     },
     "execution_count": 332,
     "metadata": {},
     "output_type": "execute_result"
    }
   ],
   "source": [
    "nums[0]"
   ]
  },
  {
   "cell_type": "code",
   "execution_count": 334,
   "id": "4b352df4-94f5-4309-8ff3-0cf4d76adc88",
   "metadata": {},
   "outputs": [
    {
     "data": {
      "text/plain": [
       "10"
      ]
     },
     "execution_count": 334,
     "metadata": {},
     "output_type": "execute_result"
    }
   ],
   "source": [
    "nums[-4]"
   ]
  },
  {
   "cell_type": "code",
   "execution_count": 336,
   "id": "3903a676-d76e-4715-88bf-7a36f671e45b",
   "metadata": {},
   "outputs": [
    {
     "data": {
      "text/plain": [
       "20"
      ]
     },
     "execution_count": 336,
     "metadata": {},
     "output_type": "execute_result"
    }
   ],
   "source": [
    "nums[-3]"
   ]
  },
  {
   "cell_type": "code",
   "execution_count": 338,
   "id": "6e8176cc-5335-4090-a922-eacf56afa406",
   "metadata": {},
   "outputs": [
    {
     "data": {
      "text/plain": [
       "['hi', 'happy']"
      ]
     },
     "execution_count": 338,
     "metadata": {},
     "output_type": "execute_result"
    }
   ],
   "source": [
    "num1=['hi' ,'happy']\n",
    "num1"
   ]
  },
  {
   "cell_type": "code",
   "execution_count": 340,
   "id": "af5d9af1-11e8-4d3e-b368-2cfaefc74aa0",
   "metadata": {},
   "outputs": [
    {
     "data": {
      "text/plain": [
       "['hi', 'happy']"
      ]
     },
     "execution_count": 340,
     "metadata": {},
     "output_type": "execute_result"
    }
   ],
   "source": [
    "num1"
   ]
  },
  {
   "cell_type": "code",
   "execution_count": 342,
   "id": "71ba4d7a-79a7-43ac-9ca6-23a5371e9abc",
   "metadata": {},
   "outputs": [
    {
     "data": {
      "text/plain": [
       "['hi', 9.9, 18]"
      ]
     },
     "execution_count": 342,
     "metadata": {},
     "output_type": "execute_result"
    }
   ],
   "source": [
    "num2=['hi',9.9,18] # we can assign multiple variable\n",
    "num2"
   ]
  },
  {
   "cell_type": "code",
   "execution_count": 344,
   "id": "433f3b45-46f1-48ab-be66-c00750f7ff13",
   "metadata": {},
   "outputs": [
    {
     "data": {
      "text/plain": [
       "[[10, 20, 30, 40], ['hi', 'happy'], ['hi', 9.9, 18]]"
      ]
     },
     "execution_count": 344,
     "metadata": {},
     "output_type": "execute_result"
    }
   ],
   "source": [
    "# can we have 2 list together\n",
    "num3=[nums,num1,num2]\n",
    "num3"
   ]
  },
  {
   "cell_type": "code",
   "execution_count": 346,
   "id": "95838039-22b1-480d-a348-c012132e4ef4",
   "metadata": {},
   "outputs": [
    {
     "data": {
      "text/plain": [
       "[[[10, 20, 30, 40], ['hi', 'happy'], ['hi', 9.9, 18]], [10, 20, 30, 40]]"
      ]
     },
     "execution_count": 346,
     "metadata": {},
     "output_type": "execute_result"
    }
   ],
   "source": [
    "num4=[num3,nums]\n",
    "num4"
   ]
  },
  {
   "cell_type": "code",
   "execution_count": 348,
   "id": "eec15cf6-5f4a-44a7-8fd7-ff39def441db",
   "metadata": {},
   "outputs": [
    {
     "data": {
      "text/plain": [
       "[10, 20, 30, 40, 27]"
      ]
     },
     "execution_count": 348,
     "metadata": {},
     "output_type": "execute_result"
    }
   ],
   "source": [
    "nums.append(27)\n",
    "nums"
   ]
  },
  {
   "cell_type": "code",
   "execution_count": 350,
   "id": "ccd0ca2c-6327-446a-98be-5c097263194a",
   "metadata": {},
   "outputs": [
    {
     "data": {
      "text/plain": [
       "[10, 20, 40, 27]"
      ]
     },
     "execution_count": 350,
     "metadata": {},
     "output_type": "execute_result"
    }
   ],
   "source": [
    "nums.remove(30)\n",
    "nums"
   ]
  },
  {
   "cell_type": "code",
   "execution_count": 352,
   "id": "afe515dc-9e4a-40db-8450-066f783fcc40",
   "metadata": {},
   "outputs": [
    {
     "data": {
      "text/plain": [
       "[10, 20, 40]"
      ]
     },
     "execution_count": 352,
     "metadata": {},
     "output_type": "execute_result"
    }
   ],
   "source": [
    "nums.remove(27)\n",
    "nums"
   ]
  },
  {
   "cell_type": "code",
   "execution_count": 354,
   "id": "ea589715-3e6c-4779-9187-d2074135c89e",
   "metadata": {},
   "outputs": [
    {
     "data": {
      "text/plain": [
       "[10, 20]"
      ]
     },
     "execution_count": 354,
     "metadata": {},
     "output_type": "execute_result"
    }
   ],
   "source": [
    "nums.pop() #if you dont assign the index element then it will consider by default last index\n",
    "nums"
   ]
  },
  {
   "cell_type": "code",
   "execution_count": 356,
   "id": "fc19e72e-64ae-4901-8043-01f1d8926bee",
   "metadata": {},
   "outputs": [
    {
     "data": {
      "text/plain": [
       "['hi', 'happy']"
      ]
     },
     "execution_count": 356,
     "metadata": {},
     "output_type": "execute_result"
    }
   ],
   "source": [
    "num1"
   ]
  },
  {
   "cell_type": "code",
   "execution_count": 358,
   "id": "c64a2587-754a-4052-b1aa-b91227a282c8",
   "metadata": {},
   "outputs": [
    {
     "data": {
      "text/plain": [
       "['hi', 'happy', 'nit']"
      ]
     },
     "execution_count": 358,
     "metadata": {},
     "output_type": "execute_result"
    }
   ],
   "source": [
    "num1.insert(2,'nit') #insert the value as per index values i.e 2nd index we are assigning nit\n",
    "num1"
   ]
  },
  {
   "cell_type": "code",
   "execution_count": 360,
   "id": "eb4a952a-8ddc-444c-a662-2d4b6a65e696",
   "metadata": {},
   "outputs": [],
   "source": [
    "num1.insert(0,1)"
   ]
  },
  {
   "cell_type": "code",
   "execution_count": 362,
   "id": "e183dd20-1e36-4632-95f1-563a720107f0",
   "metadata": {},
   "outputs": [
    {
     "data": {
      "text/plain": [
       "[1, 'hi', 'happy', 'nit']"
      ]
     },
     "execution_count": 362,
     "metadata": {},
     "output_type": "execute_result"
    }
   ],
   "source": [
    "num1"
   ]
  },
  {
   "cell_type": "code",
   "execution_count": 364,
   "id": "bb7054cd-5a57-4d2f-b027-cd90584db84b",
   "metadata": {},
   "outputs": [],
   "source": [
    "del num2[2:]"
   ]
  },
  {
   "cell_type": "markdown",
   "id": "b39d89d7-5cba-4a2c-aa49-f4d9f1f2dcf1",
   "metadata": {},
   "source": [
    "num2"
   ]
  },
  {
   "cell_type": "code",
   "execution_count": 367,
   "id": "700b6cfd-c5b4-4121-895b-aa8fb647ede9",
   "metadata": {},
   "outputs": [
    {
     "data": {
      "text/plain": [
       "['hi', 9.9]"
      ]
     },
     "execution_count": 367,
     "metadata": {},
     "output_type": "execute_result"
    }
   ],
   "source": [
    "num2"
   ]
  },
  {
   "cell_type": "code",
   "execution_count": 369,
   "id": "5a389f34-c031-43f1-be7f-1a93c13bfb91",
   "metadata": {},
   "outputs": [
    {
     "data": {
      "text/plain": [
       "['hi', 9.9, 29, 15, 18]"
      ]
     },
     "execution_count": 369,
     "metadata": {},
     "output_type": "execute_result"
    }
   ],
   "source": [
    "# if you need to add multiple values \n",
    "num2.extend([29,15,18])\n",
    "num2"
   ]
  },
  {
   "cell_type": "code",
   "execution_count": 371,
   "id": "ebc96617-1118-459a-a59c-027d32974b5b",
   "metadata": {},
   "outputs": [
    {
     "data": {
      "text/plain": [
       "[[10, 20], [1, 'hi', 'happy', 'nit'], ['hi', 9.9, 29, 15, 18], 'a', 5, 6.7]"
      ]
     },
     "execution_count": 371,
     "metadata": {},
     "output_type": "execute_result"
    }
   ],
   "source": [
    "num3.extend(['a',5,6.7])\n",
    "num3"
   ]
  },
  {
   "cell_type": "markdown",
   "id": "7336a558-c260-462e-a0d8-cf64dfc3c931",
   "metadata": {},
   "source": [
    "num3"
   ]
  },
  {
   "cell_type": "code",
   "execution_count": 374,
   "id": "1763cf17-b561-4e19-9dad-c3d3f059ea17",
   "metadata": {},
   "outputs": [
    {
     "data": {
      "text/plain": [
       "[[10, 20], [1, 'hi', 'happy', 'nit'], ['hi', 9.9, 29, 15, 18], 'a', 5, 6.7]"
      ]
     },
     "execution_count": 374,
     "metadata": {},
     "output_type": "execute_result"
    }
   ],
   "source": [
    "num3"
   ]
  },
  {
   "cell_type": "code",
   "execution_count": 376,
   "id": "8dfd0fd3-3d42-4bfe-8c88-c9814ea73d25",
   "metadata": {},
   "outputs": [
    {
     "data": {
      "text/plain": [
       "[10, 20]"
      ]
     },
     "execution_count": 376,
     "metadata": {},
     "output_type": "execute_result"
    }
   ],
   "source": [
    "nums"
   ]
  },
  {
   "cell_type": "code",
   "execution_count": 378,
   "id": "105bf355-dfb3-4625-9a15-8af9242f1d2f",
   "metadata": {},
   "outputs": [
    {
     "data": {
      "text/plain": [
       "[10, 20]"
      ]
     },
     "execution_count": 378,
     "metadata": {},
     "output_type": "execute_result"
    }
   ],
   "source": [
    "nums"
   ]
  },
  {
   "cell_type": "code",
   "execution_count": 380,
   "id": "f0796b89-0134-4022-a2a4-b584b8e6c140",
   "metadata": {},
   "outputs": [
    {
     "data": {
      "text/plain": [
       "[1, 'hi', 'happy', 'nit']"
      ]
     },
     "execution_count": 380,
     "metadata": {},
     "output_type": "execute_result"
    }
   ],
   "source": [
    "num1"
   ]
  },
  {
   "cell_type": "code",
   "execution_count": 382,
   "id": "e02f2841-a83d-469f-b7dc-b1f6e4753d99",
   "metadata": {},
   "outputs": [
    {
     "data": {
      "text/plain": [
       "1"
      ]
     },
     "execution_count": 382,
     "metadata": {},
     "output_type": "execute_result"
    }
   ],
   "source": [
    "num5=(1,3,2,4,5,6,7,9) #inbuild function \n",
    "min(num5)"
   ]
  },
  {
   "cell_type": "code",
   "execution_count": 384,
   "id": "09fe1c9c-5aaa-4b74-8464-a7aa4b3c3ddd",
   "metadata": {},
   "outputs": [
    {
     "data": {
      "text/plain": [
       "9"
      ]
     },
     "execution_count": 384,
     "metadata": {},
     "output_type": "execute_result"
    }
   ],
   "source": [
    "max(num5)"
   ]
  },
  {
   "cell_type": "code",
   "execution_count": 386,
   "id": "6cfe4773-dbc5-420d-8601-43bd83e58c09",
   "metadata": {},
   "outputs": [
    {
     "data": {
      "text/plain": [
       "37"
      ]
     },
     "execution_count": 386,
     "metadata": {},
     "output_type": "execute_result"
    }
   ],
   "source": [
    "sum(num5)"
   ]
  },
  {
   "cell_type": "code",
   "execution_count": 388,
   "id": "f52e5b3c-6bd7-4f92-971f-0d82439ab139",
   "metadata": {},
   "outputs": [
    {
     "data": {
      "text/plain": [
       "37"
      ]
     },
     "execution_count": 388,
     "metadata": {},
     "output_type": "execute_result"
    }
   ],
   "source": [
    "sum(num5)"
   ]
  },
  {
   "cell_type": "code",
   "execution_count": 390,
   "id": "f960c144-de60-4f5a-9151-b3dfebd2f9ca",
   "metadata": {},
   "outputs": [
    {
     "data": {
      "text/plain": [
       "[10, 20]"
      ]
     },
     "execution_count": 390,
     "metadata": {},
     "output_type": "execute_result"
    }
   ],
   "source": [
    "nums.sort()\n",
    "nums"
   ]
  },
  {
   "cell_type": "code",
   "execution_count": 392,
   "id": "05020cf2-3ffc-4192-b40d-8aeaa1996776",
   "metadata": {},
   "outputs": [
    {
     "data": {
      "text/plain": [
       "[10, 20]"
      ]
     },
     "execution_count": 392,
     "metadata": {},
     "output_type": "execute_result"
    }
   ],
   "source": [
    "nums"
   ]
  },
  {
   "cell_type": "markdown",
   "id": "298407f4-e554-4005-9784-01699b93c0cd",
   "metadata": {},
   "source": [
    "## tuple"
   ]
  },
  {
   "cell_type": "code",
   "execution_count": 395,
   "id": "f67924c1-4e5f-4089-85cd-fe3b1331c04a",
   "metadata": {},
   "outputs": [
    {
     "data": {
      "text/plain": [
       "(15, 20, 25, 30)"
      ]
     },
     "execution_count": 395,
     "metadata": {},
     "output_type": "execute_result"
    }
   ],
   "source": [
    "# Tuple\n",
    "tup=(15,20,25,30)\n",
    "tup"
   ]
  },
  {
   "cell_type": "code",
   "execution_count": 397,
   "id": "c2e40b35-2f5d-4226-9fce-425583a06e07",
   "metadata": {},
   "outputs": [
    {
     "data": {
      "text/plain": [
       "15"
      ]
     },
     "execution_count": 397,
     "metadata": {},
     "output_type": "execute_result"
    }
   ],
   "source": [
    "tup[0]"
   ]
  },
  {
   "cell_type": "code",
   "execution_count": 399,
   "id": "78b85771-566b-4abc-92d9-35cd9ce0d9ee",
   "metadata": {},
   "outputs": [
    {
     "data": {
      "text/plain": [
       "20"
      ]
     },
     "execution_count": 399,
     "metadata": {},
     "output_type": "execute_result"
    }
   ],
   "source": [
    "tup[1]"
   ]
  },
  {
   "cell_type": "code",
   "execution_count": 401,
   "id": "ea9997d8-4425-47fd-93d5-051a47fc6063",
   "metadata": {},
   "outputs": [
    {
     "data": {
      "text/plain": [
       "30"
      ]
     },
     "execution_count": 401,
     "metadata": {},
     "output_type": "execute_result"
    }
   ],
   "source": [
    "tup[3]"
   ]
  },
  {
   "cell_type": "code",
   "execution_count": 403,
   "id": "e1684ba4-a84e-4065-bd82-f35d0ec322a7",
   "metadata": {},
   "outputs": [
    {
     "data": {
      "text/plain": [
       "25"
      ]
     },
     "execution_count": 403,
     "metadata": {},
     "output_type": "execute_result"
    }
   ],
   "source": [
    "tup[2]"
   ]
  },
  {
   "cell_type": "markdown",
   "id": "4c913f0d-0494-4d85-bee0-edcc4ded09d6",
   "metadata": {},
   "source": [
    "## SET"
   ]
  },
  {
   "cell_type": "code",
   "execution_count": 406,
   "id": "cf3c7e5c-f609-4177-852b-af6e4eb78cf0",
   "metadata": {},
   "outputs": [],
   "source": [
    "# Set\n",
    "s = {}"
   ]
  },
  {
   "cell_type": "code",
   "execution_count": 408,
   "id": "78822573-a630-4169-8ec7-1364c7c7d09d",
   "metadata": {},
   "outputs": [
    {
     "data": {
      "text/plain": [
       "{3, 6, 9, 12, 15, 18}"
      ]
     },
     "execution_count": 408,
     "metadata": {},
     "output_type": "execute_result"
    }
   ],
   "source": [
    "s1={3,6,9,12,15,18}\n",
    "s1"
   ]
  },
  {
   "cell_type": "code",
   "execution_count": 410,
   "id": "186065fd-16db-4232-a89b-4fbf19459d39",
   "metadata": {},
   "outputs": [
    {
     "data": {
      "text/plain": [
       "{21, 23, 45, 50, 54, 'nit'}"
      ]
     },
     "execution_count": 410,
     "metadata": {},
     "output_type": "execute_result"
    }
   ],
   "source": [
    "s3={50,21,23,45,'nit',54}\n",
    "s3"
   ]
  },
  {
   "cell_type": "code",
   "execution_count": 412,
   "id": "bf040237-b5db-4107-a13b-a2031d5c203d",
   "metadata": {},
   "outputs": [
    {
     "ename": "TypeError",
     "evalue": "'set' object is not subscriptable",
     "output_type": "error",
     "traceback": [
      "\u001b[1;31m---------------------------------------------------------------------------\u001b[0m",
      "\u001b[1;31mTypeError\u001b[0m                                 Traceback (most recent call last)",
      "Cell \u001b[1;32mIn[412], line 1\u001b[0m\n\u001b[1;32m----> 1\u001b[0m s1[\u001b[38;5;241m1\u001b[39m]\n",
      "\u001b[1;31mTypeError\u001b[0m: 'set' object is not subscriptable"
     ]
    }
   ],
   "source": [
    "s1[1] #as we dont have proper sequencing thats why indexing not subscriptable"
   ]
  },
  {
   "cell_type": "markdown",
   "id": "2fa6f9e3-98c8-4279-83df-d931de0c6664",
   "metadata": {},
   "source": [
    "## DICTIONARY"
   ]
  },
  {
   "cell_type": "code",
   "execution_count": 415,
   "id": "bf718534-e1c4-4b82-b2e9-5b00d3e738c9",
   "metadata": {},
   "outputs": [
    {
     "data": {
      "text/plain": [
       "{1: 'naidu', 2: 'naveen', 3: 'ramunaidu', 4: 'satyavathi'}"
      ]
     },
     "execution_count": 415,
     "metadata": {},
     "output_type": "execute_result"
    }
   ],
   "source": [
    "# Dictionary\n",
    "data={1:'naidu',2:'naveen',3:'ramunaidu',4:'satyavathi'}\n",
    "data"
   ]
  },
  {
   "cell_type": "code",
   "execution_count": 417,
   "id": "8010a5fc-503c-4632-94a5-97033303f9b0",
   "metadata": {},
   "outputs": [
    {
     "data": {
      "text/plain": [
       "'satyavathi'"
      ]
     },
     "execution_count": 417,
     "metadata": {},
     "output_type": "execute_result"
    }
   ],
   "source": [
    "data[4]"
   ]
  },
  {
   "cell_type": "code",
   "execution_count": 419,
   "id": "d8a48834-2fcb-4162-9a75-63e6ec6087b6",
   "metadata": {},
   "outputs": [
    {
     "data": {
      "text/plain": [
       "'naidu'"
      ]
     },
     "execution_count": 419,
     "metadata": {},
     "output_type": "execute_result"
    }
   ],
   "source": [
    "data[1]"
   ]
  },
  {
   "cell_type": "code",
   "execution_count": 421,
   "id": "cc0b48e4-7814-4a4c-9f7d-bf5bb5485c8a",
   "metadata": {},
   "outputs": [
    {
     "data": {
      "text/plain": [
       "'ramunaidu'"
      ]
     },
     "execution_count": 421,
     "metadata": {},
     "output_type": "execute_result"
    }
   ],
   "source": [
    "data[3]"
   ]
  },
  {
   "cell_type": "code",
   "execution_count": 423,
   "id": "7cd38e17-30d9-4378-95ff-76bf14811871",
   "metadata": {},
   "outputs": [
    {
     "data": {
      "text/plain": [
       "'naveen'"
      ]
     },
     "execution_count": 423,
     "metadata": {},
     "output_type": "execute_result"
    }
   ],
   "source": [
    "data[2]"
   ]
  },
  {
   "cell_type": "code",
   "execution_count": 425,
   "id": "5da1de71-ebe4-4ea8-8fb0-f717abf140d4",
   "metadata": {},
   "outputs": [
    {
     "data": {
      "text/plain": [
       "'naveen'"
      ]
     },
     "execution_count": 425,
     "metadata": {},
     "output_type": "execute_result"
    }
   ],
   "source": [
    "data.get(2)"
   ]
  },
  {
   "cell_type": "code",
   "execution_count": 427,
   "id": "e223a25f-abed-42e2-b817-20c8e7531e21",
   "metadata": {},
   "outputs": [
    {
     "data": {
      "text/plain": [
       "'satyavathi'"
      ]
     },
     "execution_count": 427,
     "metadata": {},
     "output_type": "execute_result"
    }
   ],
   "source": [
    "data.get(4)"
   ]
  },
  {
   "cell_type": "code",
   "execution_count": 429,
   "id": "6e8eb4fc-e1fb-4aeb-a5e5-071427196714",
   "metadata": {},
   "outputs": [
    {
     "data": {
      "text/plain": [
       "'naidu'"
      ]
     },
     "execution_count": 429,
     "metadata": {},
     "output_type": "execute_result"
    }
   ],
   "source": [
    "data.get(1)"
   ]
  },
  {
   "cell_type": "code",
   "execution_count": 431,
   "id": "8ffdfdbc-c7b9-4410-8c1c-20e55c0052af",
   "metadata": {},
   "outputs": [
    {
     "data": {
      "text/plain": [
       "'ramunaidu'"
      ]
     },
     "execution_count": 431,
     "metadata": {},
     "output_type": "execute_result"
    }
   ],
   "source": [
    "data.get(3)"
   ]
  },
  {
   "cell_type": "code",
   "execution_count": 433,
   "id": "1a738421-0004-484e-9c43-83e89cf5ebbd",
   "metadata": {},
   "outputs": [
    {
     "name": "stdout",
     "output_type": "stream",
     "text": [
      "naveen\n"
     ]
    }
   ],
   "source": [
    "print(data.get(2))"
   ]
  },
  {
   "cell_type": "code",
   "execution_count": 435,
   "id": "36554ada-a9ab-4141-be06-79ae93a4bd60",
   "metadata": {},
   "outputs": [
    {
     "name": "stdout",
     "output_type": "stream",
     "text": [
      "satyavathi\n"
     ]
    }
   ],
   "source": [
    "print(data.get(4))"
   ]
  },
  {
   "cell_type": "code",
   "execution_count": 437,
   "id": "48c25aaa-28f8-44e9-92d7-b297f8df0ca6",
   "metadata": {},
   "outputs": [
    {
     "name": "stdout",
     "output_type": "stream",
     "text": [
      "naveen\n"
     ]
    }
   ],
   "source": [
    "print(data.get(2))"
   ]
  },
  {
   "cell_type": "code",
   "execution_count": 439,
   "id": "a46f7af5-2ba1-4be3-bd14-6f601c4c8825",
   "metadata": {},
   "outputs": [
    {
     "name": "stdout",
     "output_type": "stream",
     "text": [
      "naidu\n"
     ]
    }
   ],
   "source": [
    "print(data.get(1))"
   ]
  },
  {
   "cell_type": "code",
   "execution_count": 441,
   "id": "914f9f78-bdd8-4bdd-b6b5-643186236449",
   "metadata": {},
   "outputs": [
    {
     "name": "stdout",
     "output_type": "stream",
     "text": [
      "ramunaidu\n"
     ]
    }
   ],
   "source": [
    "print(data.get(3))"
   ]
  },
  {
   "cell_type": "code",
   "execution_count": 443,
   "id": "ad5c0cb1-1880-4e78-a25f-12c909d46bcc",
   "metadata": {},
   "outputs": [
    {
     "data": {
      "text/plain": [
       "'naidu'"
      ]
     },
     "execution_count": 443,
     "metadata": {},
     "output_type": "execute_result"
    }
   ],
   "source": [
    "data.get(1,'not found')"
   ]
  },
  {
   "cell_type": "code",
   "execution_count": 445,
   "id": "07fc8748-6d00-4c1b-8cf8-07507e108e49",
   "metadata": {},
   "outputs": [
    {
     "data": {
      "text/plain": [
       "'naveen'"
      ]
     },
     "execution_count": 445,
     "metadata": {},
     "output_type": "execute_result"
    }
   ],
   "source": [
    "data.get(2,'not found')"
   ]
  },
  {
   "cell_type": "code",
   "execution_count": 447,
   "id": "eceabafe-001c-4bd3-9946-cf96bcf80b67",
   "metadata": {},
   "outputs": [
    {
     "data": {
      "text/plain": [
       "{1: 'naidu', 2: 'naveen', 3: 'ramunaidu', 4: 'satyavathi', 5: 'five'}"
      ]
     },
     "execution_count": 447,
     "metadata": {},
     "output_type": "execute_result"
    }
   ],
   "source": [
    "data[5]='five'\n",
    "data"
   ]
  },
  {
   "cell_type": "code",
   "execution_count": 449,
   "id": "032171cd-12af-4d9c-a44f-0048a21c66ef",
   "metadata": {},
   "outputs": [
    {
     "data": {
      "text/plain": [
       "{1: 'naidu', 2: 'naveen', 3: 'ramunaidu', 4: 'satyavathi', 5: 'five'}"
      ]
     },
     "execution_count": 449,
     "metadata": {},
     "output_type": "execute_result"
    }
   ],
   "source": [
    "data"
   ]
  },
  {
   "cell_type": "code",
   "execution_count": 451,
   "id": "7d56bd81-eb82-48c1-8572-0f21ed338efe",
   "metadata": {},
   "outputs": [
    {
     "data": {
      "text/plain": [
       "{1: 'naidu', 2: 'naveen', 3: 'ramunaidu', 4: 'satyavathi'}"
      ]
     },
     "execution_count": 451,
     "metadata": {},
     "output_type": "execute_result"
    }
   ],
   "source": [
    "del data[5]\n",
    "data"
   ]
  },
  {
   "cell_type": "code",
   "execution_count": 453,
   "id": "729a9445-b524-4a54-b67a-f7ec757ff552",
   "metadata": {},
   "outputs": [
    {
     "data": {
      "text/plain": [
       "{1: 'naidu', 2: 'naveen', 3: 'ramunaidu', 4: 'satyavathi'}"
      ]
     },
     "execution_count": 453,
     "metadata": {},
     "output_type": "execute_result"
    }
   ],
   "source": [
    "data"
   ]
  },
  {
   "cell_type": "code",
   "execution_count": 455,
   "id": "cbe98f7a-14ed-4ea0-b602-c10d2ac9c6b6",
   "metadata": {},
   "outputs": [
    {
     "data": {
      "text/plain": [
       "{'python': ['vscode', 'pycharam'],\n",
       " 'machine': 'sklearn',\n",
       " 'datascience': ['jupter', 'spyder']}"
      ]
     },
     "execution_count": 455,
     "metadata": {},
     "output_type": "execute_result"
    }
   ],
   "source": [
    "#list in the dictionary\n",
    "prog={'python':['vscode','pycharam'], 'machine' : 'sklearn', 'datascience':['jupter','spyder']}\n",
    "prog"
   ]
  },
  {
   "cell_type": "code",
   "execution_count": 457,
   "id": "2c8037c6-1f8f-4486-907c-59bb13735d8f",
   "metadata": {},
   "outputs": [
    {
     "data": {
      "text/plain": [
       "['vscode', 'pycharam']"
      ]
     },
     "execution_count": 457,
     "metadata": {},
     "output_type": "execute_result"
    }
   ],
   "source": [
    "prog['python']"
   ]
  },
  {
   "cell_type": "code",
   "execution_count": 459,
   "id": "8c73116a-3d3b-4ec4-9268-c3c9df59c076",
   "metadata": {},
   "outputs": [
    {
     "data": {
      "text/plain": [
       "'sklearn'"
      ]
     },
     "execution_count": 459,
     "metadata": {},
     "output_type": "execute_result"
    }
   ],
   "source": [
    "prog['machine']"
   ]
  },
  {
   "cell_type": "code",
   "execution_count": 461,
   "id": "58ba0b6f-6f66-4765-afe0-9f464b4db487",
   "metadata": {},
   "outputs": [
    {
     "data": {
      "text/plain": [
       "['jupter', 'spyder']"
      ]
     },
     "execution_count": 461,
     "metadata": {},
     "output_type": "execute_result"
    }
   ],
   "source": [
    "prog['datascience']"
   ]
  },
  {
   "cell_type": "markdown",
   "id": "b20291b7-e7ef-43cd-9b6e-b00105da23a9",
   "metadata": {},
   "source": [
    "## how to creat a environment variable \n",
    "\n",
    "- STEPS TO SET UP EXECUTE PYTHON IN SYSTEM CMD (TO CREATE ENVIRONMENT VARIABLE)\n",
    "- Open cmd # python (You will get error when you execute 1st time)\n",
    "- search with environment variable - system variable:(C:\\Users\\kdata\\AppData\\Local\\Microsoft\\WindowsApps)\n",
    "- restart the cmd & type python in cmd it will work now"
   ]
  },
  {
   "cell_type": "markdown",
   "id": "695638ee-22b6-4348-9224-1c237aa18e45",
   "metadata": {},
   "source": [
    "## to find help"
   ]
  },
  {
   "cell_type": "code",
   "execution_count": 465,
   "id": "0467023f-e23a-446b-9e40-d44da92e8d04",
   "metadata": {},
   "outputs": [],
   "source": [
    "#help()"
   ]
  },
  {
   "cell_type": "code",
   "execution_count": 467,
   "id": "6bde3034-11f4-45a9-8fe8-a4189e91328c",
   "metadata": {},
   "outputs": [],
   "source": [
    "# help(tuple)"
   ]
  },
  {
   "cell_type": "code",
   "execution_count": 469,
   "id": "aba1e78c-a32e-4fc5-9e7f-465206ea8d42",
   "metadata": {},
   "outputs": [],
   "source": [
    "# help(list)"
   ]
  },
  {
   "cell_type": "markdown",
   "id": "173660a8-47de-46b7-adb1-018468ed7759",
   "metadata": {},
   "source": [
    "## introduce to ID()"
   ]
  },
  {
   "cell_type": "code",
   "execution_count": 472,
   "id": "135329e3-3e32-4dd5-8b76-b8ee743403f0",
   "metadata": {},
   "outputs": [
    {
     "data": {
      "text/plain": [
       "140715253312056"
      ]
     },
     "execution_count": 472,
     "metadata": {},
     "output_type": "execute_result"
    }
   ],
   "source": [
    "# variable address\n",
    "num=5\n",
    "id(num)"
   ]
  },
  {
   "cell_type": "code",
   "execution_count": 474,
   "id": "40979b54-43fc-4b2c-b509-6ef5d2f32913",
   "metadata": {},
   "outputs": [
    {
     "data": {
      "text/plain": [
       "1849542055216"
      ]
     },
     "execution_count": 474,
     "metadata": {},
     "output_type": "execute_result"
    }
   ],
   "source": [
    "name='nit'\n",
    "id(name)  #Address will be different for both"
   ]
  },
  {
   "cell_type": "code",
   "execution_count": 476,
   "id": "57288c0c-ab5f-400e-a946-544249650638",
   "metadata": {},
   "outputs": [
    {
     "data": {
      "text/plain": [
       "140715253312216"
      ]
     },
     "execution_count": 476,
     "metadata": {},
     "output_type": "execute_result"
    }
   ],
   "source": [
    "a=10\n",
    "id(a)"
   ]
  },
  {
   "cell_type": "code",
   "execution_count": 478,
   "id": "eed1a03c-29b7-41e7-8384-2641459902e2",
   "metadata": {},
   "outputs": [],
   "source": [
    "b=a  #thats why python is more memory efficient "
   ]
  },
  {
   "cell_type": "code",
   "execution_count": 480,
   "id": "b1a3e062-ad18-4775-a0dc-86a7532039de",
   "metadata": {},
   "outputs": [
    {
     "data": {
      "text/plain": [
       "140715253312216"
      ]
     },
     "execution_count": 480,
     "metadata": {},
     "output_type": "execute_result"
    }
   ],
   "source": [
    "id(b)"
   ]
  },
  {
   "cell_type": "code",
   "execution_count": 482,
   "id": "db671184-a564-46f6-a937-a9f84694d729",
   "metadata": {},
   "outputs": [
    {
     "data": {
      "text/plain": [
       "140715253312216"
      ]
     },
     "execution_count": 482,
     "metadata": {},
     "output_type": "execute_result"
    }
   ],
   "source": [
    "id(10)"
   ]
  },
  {
   "cell_type": "code",
   "execution_count": 484,
   "id": "929dcc14-03ab-4562-a0fd-e898fba8a661",
   "metadata": {},
   "outputs": [
    {
     "data": {
      "text/plain": [
       "140715253312216"
      ]
     },
     "execution_count": 484,
     "metadata": {},
     "output_type": "execute_result"
    }
   ],
   "source": [
    "k=10\n",
    "id(k)"
   ]
  },
  {
   "cell_type": "code",
   "execution_count": 486,
   "id": "e35086b9-ed3b-4c0e-9529-f559131f8c0a",
   "metadata": {},
   "outputs": [
    {
     "data": {
      "text/plain": [
       "140715253312536"
      ]
     },
     "execution_count": 486,
     "metadata": {},
     "output_type": "execute_result"
    }
   ],
   "source": [
    "a=20 # as we change the value of a then address will change\n",
    "id(a)"
   ]
  },
  {
   "cell_type": "code",
   "execution_count": 488,
   "id": "c1997d94-44f8-4bfc-af65-dc02013e3e1b",
   "metadata": {},
   "outputs": [
    {
     "data": {
      "text/plain": [
       "140715253312216"
      ]
     },
     "execution_count": 488,
     "metadata": {},
     "output_type": "execute_result"
    }
   ],
   "source": [
    "id(b)"
   ]
  },
  {
   "cell_type": "markdown",
   "id": "38da2e9a-d85e-44eb-963b-d9a8a384e06a",
   "metadata": {},
   "source": [
    "what ever the variale we assigned the memory and we not assigned anywhere then we can use as garbage collection.|| \n",
    "VARIABLE - we can change the values || CONSTANT - we cannot change the value\n",
    "-can we make VARIABLE as a CONSTANT (note - in python you cannot make variable as constant)"
   ]
  },
  {
   "cell_type": "code",
   "execution_count": 491,
   "id": "eabd3935-d4ba-4510-932d-c71085cedc05",
   "metadata": {},
   "outputs": [
    {
     "data": {
      "text/plain": [
       "3.14"
      ]
     },
     "execution_count": 491,
     "metadata": {},
     "output_type": "execute_result"
    }
   ],
   "source": [
    "PI= 3.14\n",
    "PI"
   ]
  },
  {
   "cell_type": "code",
   "execution_count": 493,
   "id": "b03eadce-1e95-4111-9586-f350683108cd",
   "metadata": {},
   "outputs": [
    {
     "data": {
      "text/plain": [
       "float"
      ]
     },
     "execution_count": 493,
     "metadata": {},
     "output_type": "execute_result"
    }
   ],
   "source": [
    "type(PI)"
   ]
  },
  {
   "cell_type": "markdown",
   "id": "44dbacd4-3f6d-4941-b5fb-00ebeeaa07ee",
   "metadata": {},
   "source": [
    "## DATA TYPES & DATA STRUCTURES --->\n",
    "NUMERICAL DATA \n",
    "# int\n",
    "# float\n",
    "# complex\n",
    "# bool\n",
    "\n"
   ]
  },
  {
   "cell_type": "code",
   "execution_count": 496,
   "id": "7983cce2-07c5-45c0-9da4-4a9d078d3caa",
   "metadata": {},
   "outputs": [
    {
     "data": {
      "text/plain": [
       "int"
      ]
     },
     "execution_count": 496,
     "metadata": {},
     "output_type": "execute_result"
    }
   ],
   "source": [
    "a = 5\n",
    "type(a)"
   ]
  },
  {
   "cell_type": "code",
   "execution_count": 498,
   "id": "e6e2060a-42c1-4fb9-b77c-5846fdc0c0a3",
   "metadata": {},
   "outputs": [
    {
     "data": {
      "text/plain": [
       "float"
      ]
     },
     "execution_count": 498,
     "metadata": {},
     "output_type": "execute_result"
    }
   ],
   "source": [
    "a = 2.7\n",
    "type(a)"
   ]
  },
  {
   "cell_type": "code",
   "execution_count": 500,
   "id": "915e98b4-bb3a-4d51-8653-95d14fee432c",
   "metadata": {},
   "outputs": [
    {
     "data": {
      "text/plain": [
       "complex"
      ]
     },
     "execution_count": 500,
     "metadata": {},
     "output_type": "execute_result"
    }
   ],
   "source": [
    "b = 9+9j\n",
    "type(b)"
   ]
  },
  {
   "cell_type": "code",
   "execution_count": 502,
   "id": "2af510f4-4649-4658-9c46-d4431658591c",
   "metadata": {},
   "outputs": [
    {
     "data": {
      "text/plain": [
       "bool"
      ]
     },
     "execution_count": 502,
     "metadata": {},
     "output_type": "execute_result"
    }
   ],
   "source": [
    "a=True\n",
    "b=False\n",
    "type(a)"
   ]
  },
  {
   "cell_type": "markdown",
   "id": "39daf18f-2188-4a03-a501-48bea71befd3",
   "metadata": {},
   "source": [
    "# list\n",
    "# tuple\n",
    "# set\n",
    "# string\n",
    "# range\n",
    "# dictionary"
   ]
  },
  {
   "cell_type": "code",
   "execution_count": 505,
   "id": "41b77a7b-ce03-4eca-8635-f03e8382bea0",
   "metadata": {},
   "outputs": [
    {
     "data": {
      "text/plain": [
       "float"
      ]
     },
     "execution_count": 505,
     "metadata": {},
     "output_type": "execute_result"
    }
   ],
   "source": [
    "w=2.5\n",
    "type(w)"
   ]
  },
  {
   "cell_type": "code",
   "execution_count": 507,
   "id": "a7a7ec57-739b-4a9a-b6d3-fb39d57559c4",
   "metadata": {},
   "outputs": [
    {
     "data": {
      "text/plain": [
       "True"
      ]
     },
     "execution_count": 507,
     "metadata": {},
     "output_type": "execute_result"
    }
   ],
   "source": [
    "(a)"
   ]
  },
  {
   "cell_type": "code",
   "execution_count": 509,
   "id": "a218f662-77f7-4725-98ff-707bad4d5e12",
   "metadata": {},
   "outputs": [
    {
     "data": {
      "text/plain": [
       "complex"
      ]
     },
     "execution_count": 509,
     "metadata": {},
     "output_type": "execute_result"
    }
   ],
   "source": [
    "w2 = 2 + 3j  #so hear j is represent as root of -1\n",
    "type(w2)"
   ]
  },
  {
   "cell_type": "code",
   "execution_count": 511,
   "id": "686ef6b7-3126-4f9e-867f-369392177cbc",
   "metadata": {},
   "outputs": [
    {
     "data": {
      "text/plain": [
       "5"
      ]
     },
     "execution_count": 511,
     "metadata": {},
     "output_type": "execute_result"
    }
   ],
   "source": [
    "#convert flot to integer \n",
    "a=5.6\n",
    "b=int(a)\n",
    "b"
   ]
  },
  {
   "cell_type": "code",
   "execution_count": 513,
   "id": "a74fb1e3-eb58-40c1-af58-18b4787180c2",
   "metadata": {},
   "outputs": [
    {
     "data": {
      "text/plain": [
       "float"
      ]
     },
     "execution_count": 513,
     "metadata": {},
     "output_type": "execute_result"
    }
   ],
   "source": [
    "type(a)"
   ]
  },
  {
   "cell_type": "code",
   "execution_count": 515,
   "id": "d46be93b-8f1f-489f-ac90-82fc160955a9",
   "metadata": {},
   "outputs": [
    {
     "data": {
      "text/plain": [
       "int"
      ]
     },
     "execution_count": 515,
     "metadata": {},
     "output_type": "execute_result"
    }
   ],
   "source": [
    "type(b)"
   ]
  },
  {
   "cell_type": "code",
   "execution_count": 517,
   "id": "41729c1b-48f0-4381-9a1e-e147f2aecc7b",
   "metadata": {},
   "outputs": [
    {
     "data": {
      "text/plain": [
       "5.0"
      ]
     },
     "execution_count": 517,
     "metadata": {},
     "output_type": "execute_result"
    }
   ],
   "source": [
    "k=float(b)\n",
    "k"
   ]
  },
  {
   "cell_type": "code",
   "execution_count": 519,
   "id": "f50fa645-4627-4484-8511-c9586a68b921",
   "metadata": {},
   "outputs": [
    {
     "name": "stdout",
     "output_type": "stream",
     "text": [
      "(5+5j)\n"
     ]
    }
   ],
   "source": [
    "k1=complex(b,k)\n",
    "print(k1)"
   ]
  },
  {
   "cell_type": "code",
   "execution_count": 521,
   "id": "23a995e5-c6b1-4e81-9d59-5dc303724db8",
   "metadata": {},
   "outputs": [
    {
     "data": {
      "text/plain": [
       "complex"
      ]
     },
     "execution_count": 521,
     "metadata": {},
     "output_type": "execute_result"
    }
   ],
   "source": [
    "type(k1)"
   ]
  },
  {
   "cell_type": "code",
   "execution_count": 523,
   "id": "e3f2839f-767a-4f73-b759-7491d8a8d656",
   "metadata": {},
   "outputs": [
    {
     "data": {
      "text/plain": [
       "False"
      ]
     },
     "execution_count": 523,
     "metadata": {},
     "output_type": "execute_result"
    }
   ],
   "source": [
    "b<k"
   ]
  },
  {
   "cell_type": "code",
   "execution_count": 525,
   "id": "2c6159e4-79c6-4d92-ac38-71bb197b11a5",
   "metadata": {},
   "outputs": [
    {
     "data": {
      "text/plain": [
       "False"
      ]
     },
     "execution_count": 525,
     "metadata": {},
     "output_type": "execute_result"
    }
   ],
   "source": [
    "condition = b<k\n",
    "condition"
   ]
  },
  {
   "cell_type": "code",
   "execution_count": 527,
   "id": "04894a24-8fe6-44e0-80c2-3f4a881abe66",
   "metadata": {},
   "outputs": [
    {
     "data": {
      "text/plain": [
       "bool"
      ]
     },
     "execution_count": 527,
     "metadata": {},
     "output_type": "execute_result"
    }
   ],
   "source": [
    "type(condition)"
   ]
  },
  {
   "cell_type": "code",
   "execution_count": 529,
   "id": "f576f0e5-3618-40fc-839f-03eccbf73719",
   "metadata": {},
   "outputs": [
    {
     "data": {
      "text/plain": [
       "1"
      ]
     },
     "execution_count": 529,
     "metadata": {},
     "output_type": "execute_result"
    }
   ],
   "source": [
    "int(True)"
   ]
  },
  {
   "cell_type": "code",
   "execution_count": 531,
   "id": "76923392-bad9-4ff0-9585-e680202a65c7",
   "metadata": {},
   "outputs": [
    {
     "data": {
      "text/plain": [
       "0"
      ]
     },
     "execution_count": 531,
     "metadata": {},
     "output_type": "execute_result"
    }
   ],
   "source": [
    "int(False)"
   ]
  },
  {
   "cell_type": "code",
   "execution_count": 533,
   "id": "03d5a0e4-981e-458b-9889-5780a722736c",
   "metadata": {},
   "outputs": [
    {
     "ename": "SyntaxError",
     "evalue": "cannot assign to literal here. Maybe you meant '==' instead of '='? (3059631923.py, line 1)",
     "output_type": "error",
     "traceback": [
      "\u001b[1;36m  Cell \u001b[1;32mIn[533], line 1\u001b[1;36m\u001b[0m\n\u001b[1;33m    1=[1,2,3,4,5]\u001b[0m\n\u001b[1;37m    ^\u001b[0m\n\u001b[1;31mSyntaxError\u001b[0m\u001b[1;31m:\u001b[0m cannot assign to literal here. Maybe you meant '==' instead of '='?\n"
     ]
    }
   ],
   "source": [
    "1=[1,2,3,4,5]\n",
    "print(1)\n",
    "type(1)"
   ]
  },
  {
   "cell_type": "code",
   "execution_count": 535,
   "id": "1fc4e80a-f74c-4d78-8970-49745cba1db3",
   "metadata": {},
   "outputs": [
    {
     "data": {
      "text/plain": [
       "{1, 2, 3, 4}"
      ]
     },
     "execution_count": 535,
     "metadata": {},
     "output_type": "execute_result"
    }
   ],
   "source": [
    "s = {1,2,3,4}\n",
    "s"
   ]
  },
  {
   "cell_type": "code",
   "execution_count": 537,
   "id": "0043f67d-fc54-476f-8ffa-d13135f25fdd",
   "metadata": {},
   "outputs": [
    {
     "data": {
      "text/plain": [
       "set"
      ]
     },
     "execution_count": 537,
     "metadata": {},
     "output_type": "execute_result"
    }
   ],
   "source": [
    "type(s)"
   ]
  },
  {
   "cell_type": "code",
   "execution_count": 539,
   "id": "8326711d-eab8-4f25-bbe1-cf1900722c8c",
   "metadata": {},
   "outputs": [
    {
     "ename": "SyntaxError",
     "evalue": "invalid syntax (2917909848.py, line 1)",
     "output_type": "error",
     "traceback": [
      "\u001b[1;36m  Cell \u001b[1;32mIn[539], line 1\u001b[1;36m\u001b[0m\n\u001b[1;33m    s1{1,2,3,4,3,4,5,6,7,6} #duplicates are not allowed\u001b[0m\n\u001b[1;37m      ^\u001b[0m\n\u001b[1;31mSyntaxError\u001b[0m\u001b[1;31m:\u001b[0m invalid syntax\n"
     ]
    }
   ],
   "source": [
    "s1{1,2,3,4,3,4,5,6,7,6} #duplicates are not allowed\n",
    "s1"
   ]
  },
  {
   "cell_type": "code",
   "execution_count": 541,
   "id": "8fbb5f76-643d-41a0-8a85-c5c1a2b1ddf5",
   "metadata": {},
   "outputs": [
    {
     "data": {
      "text/plain": [
       "{10, 20, 30}"
      ]
     },
     "execution_count": 541,
     "metadata": {},
     "output_type": "execute_result"
    }
   ],
   "source": [
    "s={10,20,30}\n",
    "s"
   ]
  },
  {
   "cell_type": "code",
   "execution_count": 543,
   "id": "b31d1134-5043-48ee-8eaa-5de2ef01f063",
   "metadata": {},
   "outputs": [
    {
     "data": {
      "text/plain": [
       "str"
      ]
     },
     "execution_count": 543,
     "metadata": {},
     "output_type": "execute_result"
    }
   ],
   "source": [
    "str='naidu' #we dont have character in python \n",
    "type(str)"
   ]
  },
  {
   "cell_type": "code",
   "execution_count": 545,
   "id": "24af41c0-55d0-4da5-acad-c2fca2d99907",
   "metadata": {},
   "outputs": [
    {
     "data": {
      "text/plain": [
       "str"
      ]
     },
     "execution_count": 545,
     "metadata": {},
     "output_type": "execute_result"
    }
   ],
   "source": [
    "st='n'\n",
    "type(st)"
   ]
  },
  {
   "cell_type": "markdown",
   "id": "303a742d-e64a-4b6e-a865-6c1de4235f9d",
   "metadata": {},
   "source": [
    "## Range ()"
   ]
  },
  {
   "cell_type": "code",
   "execution_count": 548,
   "id": "6db6c6d5-821d-445d-b9ef-631ef6b09148",
   "metadata": {},
   "outputs": [
    {
     "data": {
      "text/plain": [
       "range(0, 20)"
      ]
     },
     "execution_count": 548,
     "metadata": {},
     "output_type": "execute_result"
    }
   ],
   "source": [
    "r=range(0,20)\n",
    "r"
   ]
  },
  {
   "cell_type": "code",
   "execution_count": 550,
   "id": "5cfae52b-618d-4a9d-a29c-c444f7caa668",
   "metadata": {},
   "outputs": [
    {
     "data": {
      "text/plain": [
       "range"
      ]
     },
     "execution_count": 550,
     "metadata": {},
     "output_type": "execute_result"
    }
   ],
   "source": [
    "type(r)"
   ]
  },
  {
   "cell_type": "code",
   "execution_count": 552,
   "id": "c96afe19-b55c-4b43-a620-25784376be09",
   "metadata": {},
   "outputs": [
    {
     "data": {
      "text/plain": [
       "[0, 1, 2, 3, 4, 5, 6, 7, 8, 9, 10, 11, 12, 13, 14, 15, 16, 17, 18, 19]"
      ]
     },
     "execution_count": 552,
     "metadata": {},
     "output_type": "execute_result"
    }
   ],
   "source": [
    "list(range(0,20))\n",
    "r1=list(r)\n",
    "r1"
   ]
  },
  {
   "cell_type": "code",
   "execution_count": 554,
   "id": "59e65834-2ddf-4e17-8dc2-7b85a72e57cc",
   "metadata": {},
   "outputs": [
    {
     "data": {
      "text/plain": [
       "[2, 4, 6, 8]"
      ]
     },
     "execution_count": 554,
     "metadata": {},
     "output_type": "execute_result"
    }
   ],
   "source": [
    "#if you want to print even number\n",
    "even_number= list(range(2,10,2))\n",
    "even_number"
   ]
  },
  {
   "cell_type": "code",
   "execution_count": 556,
   "id": "8b376a87-5357-4a48-b9b6-8770cca272eb",
   "metadata": {},
   "outputs": [
    {
     "data": {
      "text/plain": [
       "{1: 'one', 2: 'two', 3: 'three'}"
      ]
     },
     "execution_count": 556,
     "metadata": {},
     "output_type": "execute_result"
    }
   ],
   "source": [
    "d={1:'one',2:'two',3:'three'}\n",
    "d"
   ]
  },
  {
   "cell_type": "code",
   "execution_count": 558,
   "id": "6aeb3815-d634-4589-992f-f347ebd78611",
   "metadata": {},
   "outputs": [
    {
     "data": {
      "text/plain": [
       "dict"
      ]
     },
     "execution_count": 558,
     "metadata": {},
     "output_type": "execute_result"
    }
   ],
   "source": [
    "type(d)"
   ]
  },
  {
   "cell_type": "code",
   "execution_count": 560,
   "id": "9ecaa4a1-b51f-4d9a-a62f-2ac6b0419ec7",
   "metadata": {},
   "outputs": [
    {
     "data": {
      "text/plain": [
       "dict_keys([1, 2, 3])"
      ]
     },
     "execution_count": 560,
     "metadata": {},
     "output_type": "execute_result"
    }
   ],
   "source": [
    "d.keys()"
   ]
  },
  {
   "cell_type": "code",
   "execution_count": 562,
   "id": "138a3f43-af6d-4d70-970c-57b3c936afe9",
   "metadata": {},
   "outputs": [
    {
     "data": {
      "text/plain": [
       "dict_values(['one', 'two', 'three'])"
      ]
     },
     "execution_count": 562,
     "metadata": {},
     "output_type": "execute_result"
    }
   ],
   "source": [
    "d.values()\n"
   ]
  },
  {
   "cell_type": "code",
   "execution_count": 564,
   "id": "79fa3ffa-353e-4f89-ac43-fb372b0300ac",
   "metadata": {},
   "outputs": [
    {
     "data": {
      "text/plain": [
       "'two'"
      ]
     },
     "execution_count": 564,
     "metadata": {},
     "output_type": "execute_result"
    }
   ],
   "source": [
    "# other way to get value as\n",
    "d.get(2)"
   ]
  },
  {
   "cell_type": "code",
   "execution_count": 566,
   "id": "b34915bd-6ecc-4f53-9f7f-c575066ddfda",
   "metadata": {},
   "outputs": [
    {
     "data": {
      "text/plain": [
       "'one'"
      ]
     },
     "execution_count": 566,
     "metadata": {},
     "output_type": "execute_result"
    }
   ],
   "source": [
    "d.get(1)"
   ]
  },
  {
   "cell_type": "code",
   "execution_count": 568,
   "id": "432902f6-6260-4e13-be80-4bf07e214fea",
   "metadata": {},
   "outputs": [
    {
     "data": {
      "text/plain": [
       "'three'"
      ]
     },
     "execution_count": 568,
     "metadata": {},
     "output_type": "execute_result"
    }
   ],
   "source": [
    "d.get(3)"
   ]
  },
  {
   "cell_type": "markdown",
   "id": "91157c82-506b-4327-a009-d96fccd557db",
   "metadata": {},
   "source": [
    "## OPERATORS IN PYTHON\n",
    "# arithmetic\n",
    "# assignment\n",
    "# relational\n",
    "# logical\n",
    "# unary"
   ]
  },
  {
   "cell_type": "markdown",
   "id": "54b3ed55-32cb-4804-b270-7f9b098d1ea4",
   "metadata": {},
   "source": [
    "## Arithmetic operator"
   ]
  },
  {
   "cell_type": "markdown",
   "id": "e4955c37-0788-4a45-8486-e7260dbde4d2",
   "metadata": {},
   "source": [
    "x1 ,y1 = 10, 5\n",
    "x1 + y1"
   ]
  },
  {
   "cell_type": "code",
   "execution_count": 573,
   "id": "e84f2739-1007-4a5a-a68e-53cbe4fd04a5",
   "metadata": {},
   "outputs": [
    {
     "data": {
      "text/plain": [
       "15"
      ]
     },
     "execution_count": 573,
     "metadata": {},
     "output_type": "execute_result"
    }
   ],
   "source": [
    "x1, y1 = 10, 5\n",
    "x1 + y1"
   ]
  },
  {
   "cell_type": "code",
   "execution_count": 575,
   "id": "ced9eddd-5e3c-476a-a9c3-8322b97de92e",
   "metadata": {},
   "outputs": [
    {
     "data": {
      "text/plain": [
       "50"
      ]
     },
     "execution_count": 575,
     "metadata": {},
     "output_type": "execute_result"
    }
   ],
   "source": [
    "x1 * y1"
   ]
  },
  {
   "cell_type": "code",
   "execution_count": 577,
   "id": "761104d6-0e3b-423e-bb20-b58b0fd154ac",
   "metadata": {},
   "outputs": [
    {
     "data": {
      "text/plain": [
       "2.0"
      ]
     },
     "execution_count": 577,
     "metadata": {},
     "output_type": "execute_result"
    }
   ],
   "source": [
    "x1 / y1"
   ]
  },
  {
   "cell_type": "code",
   "execution_count": 579,
   "id": "32ef1cec-f993-4b8c-ade8-0de8bba21b8d",
   "metadata": {},
   "outputs": [
    {
     "data": {
      "text/plain": [
       "2"
      ]
     },
     "execution_count": 579,
     "metadata": {},
     "output_type": "execute_result"
    }
   ],
   "source": [
    "x1 // y1"
   ]
  },
  {
   "cell_type": "code",
   "execution_count": 581,
   "id": "91c439f2-baa1-46d3-bc86-ee9dc5bdaaf8",
   "metadata": {},
   "outputs": [
    {
     "data": {
      "text/plain": [
       "0"
      ]
     },
     "execution_count": 581,
     "metadata": {},
     "output_type": "execute_result"
    }
   ],
   "source": [
    "x1 % y1"
   ]
  },
  {
   "cell_type": "code",
   "execution_count": 583,
   "id": "3a8e337d-6db8-4a89-ac1f-87fc410acc89",
   "metadata": {},
   "outputs": [
    {
     "data": {
      "text/plain": [
       "100000"
      ]
     },
     "execution_count": 583,
     "metadata": {},
     "output_type": "execute_result"
    }
   ],
   "source": [
    "x1 ** y1"
   ]
  },
  {
   "cell_type": "code",
   "execution_count": 585,
   "id": "2d94220f-719d-4e39-85f0-37256f996be3",
   "metadata": {},
   "outputs": [
    {
     "data": {
      "text/plain": [
       "8"
      ]
     },
     "execution_count": 585,
     "metadata": {},
     "output_type": "execute_result"
    }
   ],
   "source": [
    "2 ** 3"
   ]
  },
  {
   "cell_type": "markdown",
   "id": "c4dc97b6-2a59-4ecd-8ad6-38051f152a0f",
   "metadata": {},
   "source": [
    "## Assignment operator"
   ]
  },
  {
   "cell_type": "code",
   "execution_count": 588,
   "id": "d644bac0-6be9-41e9-ae4d-110feda2642d",
   "metadata": {},
   "outputs": [],
   "source": [
    "x = 2"
   ]
  },
  {
   "cell_type": "code",
   "execution_count": 590,
   "id": "5e4b43fc-768c-4bad-b93f-f8f4f83bbcec",
   "metadata": {},
   "outputs": [],
   "source": [
    "x = x + 2"
   ]
  },
  {
   "cell_type": "code",
   "execution_count": 592,
   "id": "1903963f-4333-46f3-921b-ed4ca864bdf4",
   "metadata": {},
   "outputs": [
    {
     "data": {
      "text/plain": [
       "4"
      ]
     },
     "execution_count": 592,
     "metadata": {},
     "output_type": "execute_result"
    }
   ],
   "source": [
    "x"
   ]
  },
  {
   "cell_type": "code",
   "execution_count": 594,
   "id": "0cb77249-01fe-4455-a45c-e56735cdc89a",
   "metadata": {},
   "outputs": [],
   "source": [
    "x += 2"
   ]
  },
  {
   "cell_type": "code",
   "execution_count": 596,
   "id": "b62d9bc9-9889-4189-9942-7b15cab4f7bc",
   "metadata": {},
   "outputs": [
    {
     "data": {
      "text/plain": [
       "6"
      ]
     },
     "execution_count": 596,
     "metadata": {},
     "output_type": "execute_result"
    }
   ],
   "source": [
    "x"
   ]
  },
  {
   "cell_type": "code",
   "execution_count": 598,
   "id": "35ff7731-e28d-4abf-8ed3-40bdc65375db",
   "metadata": {},
   "outputs": [],
   "source": [
    "x +=2"
   ]
  },
  {
   "cell_type": "code",
   "execution_count": 600,
   "id": "58db90f3-cc20-4281-98bd-120150ffcbe4",
   "metadata": {},
   "outputs": [
    {
     "data": {
      "text/plain": [
       "8"
      ]
     },
     "execution_count": 600,
     "metadata": {},
     "output_type": "execute_result"
    }
   ],
   "source": [
    "x"
   ]
  },
  {
   "cell_type": "code",
   "execution_count": 602,
   "id": "0cf00102-07cd-4a05-8e85-27e0c5cc2eef",
   "metadata": {},
   "outputs": [],
   "source": [
    "x*=2"
   ]
  },
  {
   "cell_type": "code",
   "execution_count": 604,
   "id": "3c71741d-a9cc-4fe5-997e-d939a3aeb687",
   "metadata": {},
   "outputs": [
    {
     "data": {
      "text/plain": [
       "16"
      ]
     },
     "execution_count": 604,
     "metadata": {},
     "output_type": "execute_result"
    }
   ],
   "source": [
    "x"
   ]
  },
  {
   "cell_type": "code",
   "execution_count": 606,
   "id": "7d8d4f3a-62e8-4275-b186-d4da394e6264",
   "metadata": {},
   "outputs": [],
   "source": [
    "x-=2"
   ]
  },
  {
   "cell_type": "code",
   "execution_count": 608,
   "id": "a242e302-f47b-4dc8-9e2a-b7c92c7e5bd5",
   "metadata": {},
   "outputs": [
    {
     "data": {
      "text/plain": [
       "14"
      ]
     },
     "execution_count": 608,
     "metadata": {},
     "output_type": "execute_result"
    }
   ],
   "source": [
    "x"
   ]
  },
  {
   "cell_type": "code",
   "execution_count": 610,
   "id": "9d166e38-6a69-44e9-ba77-d24f21cb15ca",
   "metadata": {},
   "outputs": [],
   "source": [
    "x/=2"
   ]
  },
  {
   "cell_type": "code",
   "execution_count": 612,
   "id": "383fc6b6-60c6-41dd-966f-ae9bb60ebec7",
   "metadata": {},
   "outputs": [
    {
     "data": {
      "text/plain": [
       "7.0"
      ]
     },
     "execution_count": 612,
     "metadata": {},
     "output_type": "execute_result"
    }
   ],
   "source": [
    "x"
   ]
  },
  {
   "cell_type": "code",
   "execution_count": 614,
   "id": "e2adc923-067d-41a3-a726-335ddb85e183",
   "metadata": {},
   "outputs": [],
   "source": [
    "a,b = 5,6"
   ]
  },
  {
   "cell_type": "code",
   "execution_count": 616,
   "id": "bd9fa7ad-a0e4-41b2-ba8e-843ca41daf17",
   "metadata": {},
   "outputs": [
    {
     "data": {
      "text/plain": [
       "5"
      ]
     },
     "execution_count": 616,
     "metadata": {},
     "output_type": "execute_result"
    }
   ],
   "source": [
    "a"
   ]
  },
  {
   "cell_type": "code",
   "execution_count": 618,
   "id": "c6f1facc-fac4-47b6-a74b-e0f5d0e235cc",
   "metadata": {},
   "outputs": [
    {
     "data": {
      "text/plain": [
       "6"
      ]
     },
     "execution_count": 618,
     "metadata": {},
     "output_type": "execute_result"
    }
   ],
   "source": [
    "b"
   ]
  },
  {
   "cell_type": "markdown",
   "id": "5916d8eb-b4c2-409e-9df4-1a73461cfd74",
   "metadata": {},
   "source": [
    "## unary operator \n",
    "\n",
    "Here we are applying unary minus operator(-) on the operand n; the value of m becomes -7, which indicates it as a negative value."
   ]
  },
  {
   "cell_type": "code",
   "execution_count": 621,
   "id": "c91be54c-bfa3-4e37-b529-0c372aa503ac",
   "metadata": {},
   "outputs": [],
   "source": [
    "n = 7"
   ]
  },
  {
   "cell_type": "code",
   "execution_count": 623,
   "id": "7564e3cf-0861-499a-a268-4ad0171d5a45",
   "metadata": {},
   "outputs": [],
   "source": [
    "m = -(n)\n"
   ]
  },
  {
   "cell_type": "code",
   "execution_count": 625,
   "id": "cebfec3e-08a2-4c67-80eb-d87c09443600",
   "metadata": {},
   "outputs": [
    {
     "data": {
      "text/plain": [
       "7"
      ]
     },
     "execution_count": 625,
     "metadata": {},
     "output_type": "execute_result"
    }
   ],
   "source": [
    "n"
   ]
  },
  {
   "cell_type": "code",
   "execution_count": 627,
   "id": "83ac7fa6-bc2e-41ae-8333-1f04a297bde6",
   "metadata": {},
   "outputs": [
    {
     "data": {
      "text/plain": [
       "-7"
      ]
     },
     "execution_count": 627,
     "metadata": {},
     "output_type": "execute_result"
    }
   ],
   "source": [
    "-n"
   ]
  },
  {
   "cell_type": "markdown",
   "id": "33c23566-7d43-45f1-a334-ab7440dcdf8d",
   "metadata": {},
   "source": [
    "# Relational operator \n",
    "we are using this operator for comparing"
   ]
  },
  {
   "cell_type": "code",
   "execution_count": 630,
   "id": "8e86ab27-f5c4-4c36-b8cf-e99aa6267074",
   "metadata": {},
   "outputs": [],
   "source": [
    "a = 5\n",
    "b = 9"
   ]
  },
  {
   "cell_type": "code",
   "execution_count": 632,
   "id": "83d48faa-419b-44cc-b0ba-08891b3953a1",
   "metadata": {},
   "outputs": [
    {
     "data": {
      "text/plain": [
       "False"
      ]
     },
     "execution_count": 632,
     "metadata": {},
     "output_type": "execute_result"
    }
   ],
   "source": [
    "a == b"
   ]
  },
  {
   "cell_type": "code",
   "execution_count": 634,
   "id": "be8af69b-d18c-4135-aca5-03bcd5a4c92f",
   "metadata": {},
   "outputs": [
    {
     "data": {
      "text/plain": [
       "True"
      ]
     },
     "execution_count": 634,
     "metadata": {},
     "output_type": "execute_result"
    }
   ],
   "source": [
    "a<b"
   ]
  },
  {
   "cell_type": "code",
   "execution_count": 636,
   "id": "3f98b8ec-5677-463d-be34-6470adbcaed2",
   "metadata": {},
   "outputs": [
    {
     "data": {
      "text/plain": [
       "False"
      ]
     },
     "execution_count": 636,
     "metadata": {},
     "output_type": "execute_result"
    }
   ],
   "source": [
    "a>b"
   ]
  },
  {
   "cell_type": "code",
   "execution_count": 638,
   "id": "5a1a0eb9-1385-46b2-b98d-6b6811201b41",
   "metadata": {},
   "outputs": [],
   "source": [
    "# a = b # we cannot use = operatro that means it is assigning "
   ]
  },
  {
   "cell_type": "code",
   "execution_count": 640,
   "id": "d591d442-3f02-48dc-b628-85dd9c129c0c",
   "metadata": {},
   "outputs": [
    {
     "data": {
      "text/plain": [
       "False"
      ]
     },
     "execution_count": 640,
     "metadata": {},
     "output_type": "execute_result"
    }
   ],
   "source": [
    "a == b"
   ]
  },
  {
   "cell_type": "code",
   "execution_count": 642,
   "id": "e4b0c528-b300-465a-8234-8c835562284f",
   "metadata": {},
   "outputs": [],
   "source": [
    "a = 10"
   ]
  },
  {
   "cell_type": "code",
   "execution_count": 644,
   "id": "f08ffea7-52e9-4b72-8cd2-748d0519850f",
   "metadata": {},
   "outputs": [
    {
     "data": {
      "text/plain": [
       "True"
      ]
     },
     "execution_count": 644,
     "metadata": {},
     "output_type": "execute_result"
    }
   ],
   "source": [
    "a != b"
   ]
  },
  {
   "cell_type": "code",
   "execution_count": 646,
   "id": "f32f255e-179c-422d-a641-bf4cc180aedb",
   "metadata": {},
   "outputs": [],
   "source": [
    "# hear if i change b = 6\n",
    "b = 10"
   ]
  },
  {
   "cell_type": "code",
   "execution_count": 648,
   "id": "e39192b6-6296-479a-83e3-9031c829d0c1",
   "metadata": {},
   "outputs": [
    {
     "data": {
      "text/plain": [
       "True"
      ]
     },
     "execution_count": 648,
     "metadata": {},
     "output_type": "execute_result"
    }
   ],
   "source": [
    "a == b"
   ]
  },
  {
   "cell_type": "code",
   "execution_count": 650,
   "id": "c8885c68-628e-4528-a146-84965d354485",
   "metadata": {},
   "outputs": [
    {
     "data": {
      "text/plain": [
       "True"
      ]
     },
     "execution_count": 650,
     "metadata": {},
     "output_type": "execute_result"
    }
   ],
   "source": [
    "a >= b"
   ]
  },
  {
   "cell_type": "code",
   "execution_count": 652,
   "id": "de69870b-a4d8-47b9-ac4b-eeb90e405fce",
   "metadata": {},
   "outputs": [
    {
     "data": {
      "text/plain": [
       "True"
      ]
     },
     "execution_count": 652,
     "metadata": {},
     "output_type": "execute_result"
    }
   ],
   "source": [
    "a <= b"
   ]
  },
  {
   "cell_type": "code",
   "execution_count": 654,
   "id": "2c09699f-ae1a-4087-8e3c-acdd791edba4",
   "metadata": {},
   "outputs": [
    {
     "data": {
      "text/plain": [
       "False"
      ]
     },
     "execution_count": 654,
     "metadata": {},
     "output_type": "execute_result"
    }
   ],
   "source": [
    "a != b"
   ]
  },
  {
   "cell_type": "markdown",
   "id": "20e3c389-8d67-4f9c-9841-dd4751a9f818",
   "metadata": {},
   "source": [
    "## LOGICAL OPERATOR \n",
    "AND, OR, NOT\n",
    "\n"
   ]
  },
  {
   "cell_type": "code",
   "execution_count": 657,
   "id": "49dd0326-e031-41b1-b9c6-0caa535de785",
   "metadata": {},
   "outputs": [],
   "source": [
    "a = 5\n",
    "b = 6"
   ]
  },
  {
   "cell_type": "code",
   "execution_count": 659,
   "id": "6a3de689-d345-45c6-845a-22e1cf76cc16",
   "metadata": {},
   "outputs": [
    {
     "data": {
      "text/plain": [
       "False"
      ]
     },
     "execution_count": 659,
     "metadata": {},
     "output_type": "execute_result"
    }
   ],
   "source": [
    "a < 8 and b < 5  #refer to the truth table"
   ]
  },
  {
   "cell_type": "code",
   "execution_count": 661,
   "id": "1ed989d0-2884-4eec-b79e-ab5b54f74a9c",
   "metadata": {},
   "outputs": [
    {
     "data": {
      "text/plain": [
       "False"
      ]
     },
     "execution_count": 661,
     "metadata": {},
     "output_type": "execute_result"
    }
   ],
   "source": [
    "a < 8 and b < 2"
   ]
  },
  {
   "cell_type": "code",
   "execution_count": 663,
   "id": "77103fab-2ba3-4d50-bc22-0bd2787d13db",
   "metadata": {},
   "outputs": [
    {
     "data": {
      "text/plain": [
       "False"
      ]
     },
     "execution_count": 663,
     "metadata": {},
     "output_type": "execute_result"
    }
   ],
   "source": [
    "a>8 or b<2"
   ]
  },
  {
   "cell_type": "code",
   "execution_count": 665,
   "id": "35bb4a84-88fd-472e-b63b-b34b8ac0492f",
   "metadata": {},
   "outputs": [
    {
     "data": {
      "text/plain": [
       "False"
      ]
     },
     "execution_count": 665,
     "metadata": {},
     "output_type": "execute_result"
    }
   ],
   "source": [
    "x=False\n",
    "x"
   ]
  },
  {
   "cell_type": "code",
   "execution_count": 667,
   "id": "149ca0e8-1a20-437b-8367-2c4efbb34a8f",
   "metadata": {},
   "outputs": [
    {
     "data": {
      "text/plain": [
       "True"
      ]
     },
     "execution_count": 667,
     "metadata": {},
     "output_type": "execute_result"
    }
   ],
   "source": [
    "not x  # you can reverse the operation"
   ]
  },
  {
   "cell_type": "code",
   "execution_count": 669,
   "id": "fb421611-9afa-49cf-8d3d-5201234ffd54",
   "metadata": {},
   "outputs": [
    {
     "data": {
      "text/plain": [
       "True"
      ]
     },
     "execution_count": 669,
     "metadata": {},
     "output_type": "execute_result"
    }
   ],
   "source": [
    "x = not x\n",
    "x"
   ]
  },
  {
   "cell_type": "code",
   "execution_count": 671,
   "id": "8b63ae92-b6c3-494b-bea9-ca607a309612",
   "metadata": {},
   "outputs": [
    {
     "data": {
      "text/plain": [
       "False"
      ]
     },
     "execution_count": 671,
     "metadata": {},
     "output_type": "execute_result"
    }
   ],
   "source": [
    "not x"
   ]
  },
  {
   "cell_type": "markdown",
   "id": "120f32b0-63cd-4a94-abf4-43c4e5294302",
   "metadata": {},
   "source": [
    "## Number system coverstion (bit-binary digit)\n",
    "binary : base (0-1) --> please divide 15/2 & count in reverse order \n",
    "octal : base (0-7)\n",
    "hexadecimal : base (0-9 & then a-f)\n",
    "when you check ipaddress you will these format --> cmd - ipconfig"
   ]
  },
  {
   "cell_type": "code",
   "execution_count": 674,
   "id": "ad132f40-7bd3-4f0d-b7cb-7fcf71a49458",
   "metadata": {},
   "outputs": [
    {
     "data": {
      "text/plain": [
       "25"
      ]
     },
     "execution_count": 674,
     "metadata": {},
     "output_type": "execute_result"
    }
   ],
   "source": [
    "25"
   ]
  },
  {
   "cell_type": "markdown",
   "id": "2b689619-719a-4bf1-a4c9-bdc36e30ce1b",
   "metadata": {},
   "source": [
    "bin(25)"
   ]
  },
  {
   "cell_type": "code",
   "execution_count": 677,
   "id": "b460ce7c-9ff1-4f25-bd44-a7e8042f6518",
   "metadata": {},
   "outputs": [
    {
     "data": {
      "text/plain": [
       "'0b1111'"
      ]
     },
     "execution_count": 677,
     "metadata": {},
     "output_type": "execute_result"
    }
   ],
   "source": [
    "bin(15)"
   ]
  },
  {
   "cell_type": "code",
   "execution_count": 679,
   "id": "0e079ee0-bd74-4a12-ae9f-9cb35ab65fec",
   "metadata": {},
   "outputs": [
    {
     "data": {
      "text/plain": [
       "'0b110111'"
      ]
     },
     "execution_count": 679,
     "metadata": {},
     "output_type": "execute_result"
    }
   ],
   "source": [
    "bin(55)"
   ]
  },
  {
   "cell_type": "code",
   "execution_count": 681,
   "id": "8d0120ef-3365-4c3b-9e95-2c5a319bb220",
   "metadata": {},
   "outputs": [
    {
     "data": {
      "text/plain": [
       "int"
      ]
     },
     "execution_count": 681,
     "metadata": {},
     "output_type": "execute_result"
    }
   ],
   "source": [
    "type(0b110111)"
   ]
  },
  {
   "cell_type": "code",
   "execution_count": 683,
   "id": "540eeb2c-68e8-4c67-b2ed-d949caa03f1c",
   "metadata": {},
   "outputs": [
    {
     "data": {
      "text/plain": [
       "'0b1100'"
      ]
     },
     "execution_count": 683,
     "metadata": {},
     "output_type": "execute_result"
    }
   ],
   "source": [
    "bin(12)"
   ]
  },
  {
   "cell_type": "code",
   "execution_count": 685,
   "id": "5f336f7a-f90c-4d3c-8efb-5fd1dc367581",
   "metadata": {},
   "outputs": [
    {
     "data": {
      "text/plain": [
       "15"
      ]
     },
     "execution_count": 685,
     "metadata": {},
     "output_type": "execute_result"
    }
   ],
   "source": [
    "0b1111"
   ]
  },
  {
   "cell_type": "code",
   "execution_count": 687,
   "id": "7d7c910b-6331-46cf-b8df-7ab59ebcba32",
   "metadata": {},
   "outputs": [
    {
     "data": {
      "text/plain": [
       "'0o17'"
      ]
     },
     "execution_count": 687,
     "metadata": {},
     "output_type": "execute_result"
    }
   ],
   "source": [
    "oct(15)"
   ]
  },
  {
   "cell_type": "code",
   "execution_count": 689,
   "id": "d373d9a8-c993-4f88-83d5-bdfc3678af43",
   "metadata": {},
   "outputs": [
    {
     "data": {
      "text/plain": [
       "'0o31'"
      ]
     },
     "execution_count": 689,
     "metadata": {},
     "output_type": "execute_result"
    }
   ],
   "source": [
    " oct(25)"
   ]
  },
  {
   "cell_type": "code",
   "execution_count": 691,
   "id": "45ee5efb-d026-4570-8e0f-d97be38ea4f2",
   "metadata": {},
   "outputs": [
    {
     "data": {
      "text/plain": [
       "'0xb'"
      ]
     },
     "execution_count": 691,
     "metadata": {},
     "output_type": "execute_result"
    }
   ],
   "source": [
    "hex(11)"
   ]
  },
  {
   "cell_type": "code",
   "execution_count": 693,
   "id": "2ca27922-f884-4d72-b094-fc24f3b62c4f",
   "metadata": {},
   "outputs": [
    {
     "data": {
      "text/plain": [
       "'0x19'"
      ]
     },
     "execution_count": 693,
     "metadata": {},
     "output_type": "execute_result"
    }
   ],
   "source": [
    "hex(25)"
   ]
  },
  {
   "cell_type": "code",
   "execution_count": 695,
   "id": "0e90e9bd-7947-40ec-9694-3a3ad8339037",
   "metadata": {},
   "outputs": [
    {
     "data": {
      "text/plain": [
       "21"
      ]
     },
     "execution_count": 695,
     "metadata": {},
     "output_type": "execute_result"
    }
   ],
   "source": [
    "0x15"
   ]
  },
  {
   "cell_type": "markdown",
   "id": "d7bc3aad-e964-4bdc-9b18-60469ad5ea45",
   "metadata": {},
   "source": [
    "## swap variable in python \n",
    "\n",
    "(a,b = 6,9) After swap we should get  ==> (a, b = 9,6 )"
   ]
  },
  {
   "cell_type": "code",
   "execution_count": 698,
   "id": "8dd1ce4c-52af-4c63-b1a4-64d9c7fdacac",
   "metadata": {},
   "outputs": [],
   "source": [
    "a = 6\n",
    "b = 9"
   ]
  },
  {
   "cell_type": "code",
   "execution_count": 700,
   "id": "9b9f31ec-dbc1-4f92-98fa-71ac4ef16f79",
   "metadata": {},
   "outputs": [],
   "source": [
    "a = b\n",
    "b = a"
   ]
  },
  {
   "cell_type": "code",
   "execution_count": 702,
   "id": "cec6199b-21f9-4a00-92ad-eae01707db94",
   "metadata": {},
   "outputs": [],
   "source": [
    "a,b = b,a"
   ]
  },
  {
   "cell_type": "code",
   "execution_count": 704,
   "id": "d70f60b2-3ea7-411e-baff-d235d579c6e8",
   "metadata": {},
   "outputs": [
    {
     "name": "stdout",
     "output_type": "stream",
     "text": [
      "9\n",
      "9\n"
     ]
    }
   ],
   "source": [
    "print(a)\n",
    "print(b)"
   ]
  },
  {
   "cell_type": "raw",
   "id": "3e38abdb-2074-47d4-9e03-7f3a8ef74e0d",
   "metadata": {},
   "source": [
    "# in above scenario we lost the value 6 \n",
    "a1 = 4\n",
    "b1 = 8"
   ]
  },
  {
   "cell_type": "code",
   "execution_count": 706,
   "id": "2dc6a6f6-4533-49f6-95cf-79353efe5c00",
   "metadata": {},
   "outputs": [],
   "source": [
    "temp = 'a1'\n",
    "a1 = 'b1'\n",
    "b1 = 'temp'"
   ]
  },
  {
   "cell_type": "code",
   "execution_count": 708,
   "id": "2a42bde7-9752-4203-a2e0-cf287d1750e9",
   "metadata": {},
   "outputs": [
    {
     "name": "stdout",
     "output_type": "stream",
     "text": [
      "b1\n",
      "temp\n"
     ]
    }
   ],
   "source": [
    "print(a1)\n",
    "print(b1)"
   ]
  },
  {
   "cell_type": "code",
   "execution_count": 710,
   "id": "2ae1ef96-9c02-4a04-8aff-cd86913a106c",
   "metadata": {},
   "outputs": [],
   "source": [
    "a2 = 5\n",
    "b2 = 6"
   ]
  },
  {
   "cell_type": "code",
   "execution_count": 712,
   "id": "a157a25d-dcaa-4e5a-b2a9-4e2262342c57",
   "metadata": {},
   "outputs": [],
   "source": [
    "#swap variable formulas\n",
    "a2 = a2 + b2\n",
    "b2 = a2 - b2\n",
    "a2 = a2 - b2"
   ]
  },
  {
   "cell_type": "code",
   "execution_count": 714,
   "id": "6cfb0d32-0d32-43e7-89d3-592e776eeb4a",
   "metadata": {},
   "outputs": [
    {
     "name": "stdout",
     "output_type": "stream",
     "text": [
      "6\n",
      "5\n"
     ]
    }
   ],
   "source": [
    "print(a2)\n",
    "print(b2)"
   ]
  },
  {
   "cell_type": "code",
   "execution_count": 716,
   "id": "250d9158-d55c-48ba-8b86-01417deab70d",
   "metadata": {},
   "outputs": [
    {
     "name": "stdout",
     "output_type": "stream",
     "text": [
      "5\n",
      "6\n"
     ]
    }
   ],
   "source": [
    "print(0b101)\n",
    "print(0b110)"
   ]
  },
  {
   "cell_type": "code",
   "execution_count": 718,
   "id": "db26dc06-3196-4295-ba9e-6f03b82023f3",
   "metadata": {},
   "outputs": [
    {
     "name": "stdout",
     "output_type": "stream",
     "text": [
      "0b1011\n",
      "11\n"
     ]
    }
   ],
   "source": [
    "#but when we use a2 + b2 then we get 11 that means we will get 4 bit which is 1 bit extra \n",
    "print(bin(11))\n",
    "print(0b1011)"
   ]
  },
  {
   "cell_type": "code",
   "execution_count": 720,
   "id": "9e282169-8f31-417f-834c-78f6af1bdafd",
   "metadata": {},
   "outputs": [],
   "source": [
    "#there is other way to work using swap variable also which is XOR because it will not waste extra bit \n",
    "a2 = a2 ^ b2\n",
    "b2 = a2 ^ b2\n",
    "a2 = a2 ^ b2"
   ]
  },
  {
   "cell_type": "code",
   "execution_count": 722,
   "id": "127430fe-579d-4235-ab8c-6c1dd3f1286f",
   "metadata": {},
   "outputs": [
    {
     "name": "stdout",
     "output_type": "stream",
     "text": [
      "5\n",
      "6\n"
     ]
    }
   ],
   "source": [
    "print(a2)\n",
    "print(b2)"
   ]
  },
  {
   "cell_type": "code",
   "execution_count": 724,
   "id": "5853ccfe-fc50-4bdd-863a-e2026e648bd5",
   "metadata": {},
   "outputs": [],
   "source": [
    "a2 , b2 = b2 , a2"
   ]
  },
  {
   "cell_type": "code",
   "execution_count": 726,
   "id": "41a0a961-337a-4cdd-bc09-e077e8beafe0",
   "metadata": {},
   "outputs": [
    {
     "name": "stdout",
     "output_type": "stream",
     "text": [
      "6\n",
      "5\n"
     ]
    }
   ],
   "source": [
    "print(a2)\n",
    "print(b2)"
   ]
  },
  {
   "cell_type": "markdown",
   "id": "19a6db46-e70f-4739-b1da-fa9304f5bd49",
   "metadata": {},
   "source": [
    "## BITWISE OPERATOR \n",
    "- WE HAVE 6 OPERATORS \n",
    "COMPLEMENT ( ~ ) || AND ( & )  || OR ( | ) || XOR ( ^ ) || LEFT SHIFT ( << ) || RIGHT SHIFT ( >> )"
   ]
  },
  {
   "cell_type": "code",
   "execution_count": 729,
   "id": "56f5f9f3-a34b-4a14-b9bb-fd82eddc9cd7",
   "metadata": {},
   "outputs": [
    {
     "name": "stdout",
     "output_type": "stream",
     "text": [
      "0b1101\n",
      "0b1110\n"
     ]
    }
   ],
   "source": [
    "print(bin(13))\n",
    "print(bin(14))"
   ]
  },
  {
   "cell_type": "markdown",
   "id": "750f1fec-fe38-4e36-9206-d6774894c443",
   "metadata": {},
   "source": [
    "# complement --> you will get this key below esc character\n",
    "12 ==> 1100 || \n",
    "first thing we need to understand what is mean by complement. \n",
    "complement means it will do reverse of the binary format i.e. - ~0 it will give you 1 ~1 it will give 0\n",
    "12 binary format is 00001100 ( complement of ~00001100 reverse the number - 11110011 which is (-13)\n",
    "\n",
    " but the question is why we got -13 \n",
    " to understand this concept ( we have concept of 2's complement\n",
    " 2's complement mean (1's complement + 1)\n",
    " in the system we can store +Ve number but how to store -ve number\n",
    " \n",
    " lets understand binary form of 13 - 00001101 + 1 "
   ]
  },
  {
   "cell_type": "code",
   "execution_count": 732,
   "id": "99fd1cd4-9eba-4620-b945-1ab020828962",
   "metadata": {},
   "outputs": [
    {
     "data": {
      "text/plain": [
       "-13"
      ]
     },
     "execution_count": 732,
     "metadata": {},
     "output_type": "execute_result"
    }
   ],
   "source": [
    "~12"
   ]
  },
  {
   "cell_type": "code",
   "execution_count": 734,
   "id": "a6c47d13-4c7d-4096-8513-cf770a5c79fe",
   "metadata": {},
   "outputs": [
    {
     "data": {
      "text/plain": [
       "-46"
      ]
     },
     "execution_count": 734,
     "metadata": {},
     "output_type": "execute_result"
    }
   ],
   "source": [
    "~45"
   ]
  },
  {
   "cell_type": "code",
   "execution_count": 736,
   "id": "2246d777-1ac3-4890-9b60-c7ece3b6c87c",
   "metadata": {},
   "outputs": [
    {
     "data": {
      "text/plain": [
       "-10"
      ]
     },
     "execution_count": 736,
     "metadata": {},
     "output_type": "execute_result"
    }
   ],
   "source": [
    "~9"
   ]
  },
  {
   "cell_type": "code",
   "execution_count": 738,
   "id": "f8fc9f55-bb59-4e80-a66d-0f027a39d265",
   "metadata": {},
   "outputs": [
    {
     "data": {
      "text/plain": [
       "-100"
      ]
     },
     "execution_count": 738,
     "metadata": {},
     "output_type": "execute_result"
    }
   ],
   "source": [
    "~99"
   ]
  },
  {
   "cell_type": "code",
   "execution_count": 740,
   "id": "aaee9236-3084-4988-8118-112fadb2b611",
   "metadata": {},
   "outputs": [
    {
     "data": {
      "text/plain": [
       "80"
      ]
     },
     "execution_count": 740,
     "metadata": {},
     "output_type": "execute_result"
    }
   ],
   "source": [
    "~-81"
   ]
  },
  {
   "cell_type": "markdown",
   "id": "671d33e0-2dd6-4951-9f71-ea2fe4c91bb4",
   "metadata": {},
   "source": [
    "# bit wise and operator \n",
    "\n",
    "AND - LOGICAL OPERATOR ||| & - BITWISE AND OPERATOR  \n",
    "(we know that 1 & 1 is 1)\n",
    "12 - 00001100 \n",
    "13 - 00001101\n",
    "when we are add both then then outut we will get as 12 "
   ]
  },
  {
   "cell_type": "code",
   "execution_count": 743,
   "id": "ea9d4c95-bc96-453a-84cb-5952031ba197",
   "metadata": {},
   "outputs": [
    {
     "data": {
      "text/plain": [
       "12"
      ]
     },
     "execution_count": 743,
     "metadata": {},
     "output_type": "execute_result"
    }
   ],
   "source": [
    "12&13"
   ]
  },
  {
   "cell_type": "code",
   "execution_count": 745,
   "id": "ae81daac-dbf3-46ea-ae0e-13f37c7266b7",
   "metadata": {},
   "outputs": [
    {
     "data": {
      "text/plain": [
       "1"
      ]
     },
     "execution_count": 745,
     "metadata": {},
     "output_type": "execute_result"
    }
   ],
   "source": [
    "1&1"
   ]
  },
  {
   "cell_type": "code",
   "execution_count": 747,
   "id": "e641f1a6-f3df-4977-9d88-a70aeaae536e",
   "metadata": {},
   "outputs": [
    {
     "data": {
      "text/plain": [
       "1"
      ]
     },
     "execution_count": 747,
     "metadata": {},
     "output_type": "execute_result"
    }
   ],
   "source": [
    "1|0"
   ]
  },
  {
   "cell_type": "code",
   "execution_count": 749,
   "id": "203c133b-c11b-4fa9-8230-ef2ffd10fd5d",
   "metadata": {},
   "outputs": [
    {
     "data": {
      "text/plain": [
       "0"
      ]
     },
     "execution_count": 749,
     "metadata": {},
     "output_type": "execute_result"
    }
   ],
   "source": [
    "1&0"
   ]
  },
  {
   "cell_type": "code",
   "execution_count": 751,
   "id": "dc212cd6-7744-49ce-b04a-8a76f2be7df6",
   "metadata": {},
   "outputs": [
    {
     "data": {
      "text/plain": [
       "13"
      ]
     },
     "execution_count": 751,
     "metadata": {},
     "output_type": "execute_result"
    }
   ],
   "source": [
    "12|13"
   ]
  },
  {
   "cell_type": "code",
   "execution_count": 753,
   "id": "49e91983-e237-4b72-a308-bbe247435618",
   "metadata": {},
   "outputs": [
    {
     "data": {
      "text/plain": [
       "32"
      ]
     },
     "execution_count": 753,
     "metadata": {},
     "output_type": "execute_result"
    }
   ],
   "source": [
    "35&40 #please do the homework conververt 35,40 to binary format"
   ]
  },
  {
   "cell_type": "code",
   "execution_count": 755,
   "id": "273f8692-65fd-4b6f-a8b5-a8dba9cdb2ec",
   "metadata": {},
   "outputs": [
    {
     "data": {
      "text/plain": [
       "43"
      ]
     },
     "execution_count": 755,
     "metadata": {},
     "output_type": "execute_result"
    }
   ],
   "source": [
    "35|40"
   ]
  },
  {
   "cell_type": "code",
   "execution_count": 757,
   "id": "bc1f6f0f-fbb6-4430-8467-8640a69453f7",
   "metadata": {},
   "outputs": [
    {
     "data": {
      "text/plain": [
       "1"
      ]
     },
     "execution_count": 757,
     "metadata": {},
     "output_type": "execute_result"
    }
   ],
   "source": [
    "# in XOR if the both number are different then we will get 1 or else we will get 0\n",
    "12^13"
   ]
  },
  {
   "cell_type": "code",
   "execution_count": 759,
   "id": "94dfdf12-f15a-419e-b1ba-e31798506310",
   "metadata": {},
   "outputs": [
    {
     "data": {
      "text/plain": [
       "3"
      ]
     },
     "execution_count": 759,
     "metadata": {},
     "output_type": "execute_result"
    }
   ],
   "source": [
    "25^26"
   ]
  },
  {
   "cell_type": "code",
   "execution_count": 761,
   "id": "3f6b6cc1-3bf5-4702-922d-16be20131888",
   "metadata": {},
   "outputs": [
    {
     "data": {
      "text/plain": [
       "7"
      ]
     },
     "execution_count": 761,
     "metadata": {},
     "output_type": "execute_result"
    }
   ],
   "source": [
    "25^30"
   ]
  },
  {
   "cell_type": "code",
   "execution_count": 763,
   "id": "e6524e84-9a1d-47e8-abd8-7abd37289478",
   "metadata": {},
   "outputs": [
    {
     "data": {
      "text/plain": [
       "'0b11001'"
      ]
     },
     "execution_count": 763,
     "metadata": {},
     "output_type": "execute_result"
    }
   ],
   "source": [
    "bin(25)"
   ]
  },
  {
   "cell_type": "code",
   "execution_count": 765,
   "id": "4fc8026c-ce49-4a97-a402-1b82128cc6f1",
   "metadata": {},
   "outputs": [
    {
     "data": {
      "text/plain": [
       "7"
      ]
     },
     "execution_count": 765,
     "metadata": {},
     "output_type": "execute_result"
    }
   ],
   "source": [
    "int(0b000111)"
   ]
  },
  {
   "cell_type": "markdown",
   "id": "6d99a822-f7a1-42c9-a333-e932d0dc3c24",
   "metadata": {},
   "source": [
    "# BIT WISE LEFT OPERATOR\n",
    "#bit wise left operator bydefault you will take 2 zeros ( )\n",
    "#10 binary operator is 1010 | also i can say 1010\n",
    "10<<2\n"
   ]
  },
  {
   "cell_type": "code",
   "execution_count": 768,
   "id": "573c33ac-5a56-4169-9e58-a55746bff8be",
   "metadata": {},
   "outputs": [
    {
     "data": {
      "text/plain": [
       "2"
      ]
     },
     "execution_count": 768,
     "metadata": {},
     "output_type": "execute_result"
    }
   ],
   "source": [
    "10>>2"
   ]
  },
  {
   "cell_type": "code",
   "execution_count": 770,
   "id": "94a9c0c1-b4f5-43ec-be29-138ba1367d7b",
   "metadata": {},
   "outputs": [
    {
     "data": {
      "text/plain": [
       "62"
      ]
     },
     "execution_count": 770,
     "metadata": {},
     "output_type": "execute_result"
    }
   ],
   "source": [
    "1000>>4"
   ]
  },
  {
   "cell_type": "markdown",
   "id": "f0724b16-739a-4491-b5a6-526d4e756fd7",
   "metadata": {},
   "source": [
    "# BITWISE RIGHTSHIFT OPERATOR"
   ]
  },
  {
   "cell_type": "code",
   "execution_count": 773,
   "id": "08d8fac1-4d38-43c9-a660-623d12ecf386",
   "metadata": {},
   "outputs": [
    {
     "data": {
      "text/plain": [
       "80"
      ]
     },
     "execution_count": 773,
     "metadata": {},
     "output_type": "execute_result"
    }
   ],
   "source": [
    "20<<2"
   ]
  },
  {
   "cell_type": "code",
   "execution_count": 775,
   "id": "b4811cee-db9d-42a3-8027-175f9f2080f9",
   "metadata": {},
   "outputs": [
    {
     "data": {
      "text/plain": [
       "64000"
      ]
     },
     "execution_count": 775,
     "metadata": {},
     "output_type": "execute_result"
    }
   ],
   "source": [
    "1000<<6"
   ]
  },
  {
   "cell_type": "markdown",
   "id": "070e0607-7d93-4712-af3f-8d33834a890a",
   "metadata": {},
   "source": [
    "### import math module \n",
    "https://docs.python.org/3/library/math.html"
   ]
  },
  {
   "cell_type": "code",
   "execution_count": 778,
   "id": "b0fc67c3-fe4a-4676-bc2c-8329642f2114",
   "metadata": {},
   "outputs": [],
   "source": [
    "import math # math is module"
   ]
  },
  {
   "cell_type": "code",
   "execution_count": 780,
   "id": "657fe603-d0d9-48eb-9bca-1fc15b0317c8",
   "metadata": {},
   "outputs": [
    {
     "data": {
      "text/plain": [
       "5.0"
      ]
     },
     "execution_count": 780,
     "metadata": {},
     "output_type": "execute_result"
    }
   ],
   "source": [
    "x = math.sqrt(25)\n",
    "x"
   ]
  },
  {
   "cell_type": "code",
   "execution_count": 782,
   "id": "3b4b364f-f340-402d-8214-c4b9904aee84",
   "metadata": {},
   "outputs": [
    {
     "data": {
      "text/plain": [
       "5.916079783099616"
      ]
     },
     "execution_count": 782,
     "metadata": {},
     "output_type": "execute_result"
    }
   ],
   "source": [
    "x1 = math.sqrt(35)\n",
    "x1"
   ]
  },
  {
   "cell_type": "code",
   "execution_count": 784,
   "id": "efa549db-059e-49ff-9cb4-9ee66c86ebcc",
   "metadata": {},
   "outputs": [
    {
     "data": {
      "text/plain": [
       "3.605551275463989"
      ]
     },
     "execution_count": 784,
     "metadata": {},
     "output_type": "execute_result"
    }
   ],
   "source": [
    "x2 = math.sqrt(13)\n",
    "x2"
   ]
  },
  {
   "cell_type": "code",
   "execution_count": 786,
   "id": "5080375b-d1b7-4311-bad5-08418383fa5f",
   "metadata": {},
   "outputs": [
    {
     "name": "stdout",
     "output_type": "stream",
     "text": [
      "2\n"
     ]
    }
   ],
   "source": [
    "print(math.floor(2.9))  #floor - minimum or least value"
   ]
  },
  {
   "cell_type": "code",
   "execution_count": 788,
   "id": "729b75f2-8465-4850-9a85-9c190df7f314",
   "metadata": {},
   "outputs": [
    {
     "name": "stdout",
     "output_type": "stream",
     "text": [
      "3\n"
     ]
    }
   ],
   "source": [
    "print(math.ceil(2.4))  #ceil - maximum or highest value"
   ]
  },
  {
   "cell_type": "code",
   "execution_count": 790,
   "id": "4583c0ee-02bd-4e8a-afe5-2ec117c40f00",
   "metadata": {},
   "outputs": [
    {
     "name": "stdout",
     "output_type": "stream",
     "text": [
      "8.0\n"
     ]
    }
   ],
   "source": [
    "print(math.pow(2,3))"
   ]
  },
  {
   "cell_type": "code",
   "execution_count": 792,
   "id": "02492bb7-cbf4-4276-b7fa-797c1d888200",
   "metadata": {},
   "outputs": [
    {
     "name": "stdout",
     "output_type": "stream",
     "text": [
      "3.141592653589793\n"
     ]
    }
   ],
   "source": [
    "print(math.pi) #these are constant"
   ]
  },
  {
   "cell_type": "code",
   "execution_count": 794,
   "id": "637b0533-300e-4cae-919e-e852575864b9",
   "metadata": {},
   "outputs": [
    {
     "name": "stdout",
     "output_type": "stream",
     "text": [
      "2.718281828459045\n"
     ]
    }
   ],
   "source": [
    "print(math.e)  #these are constant"
   ]
  },
  {
   "cell_type": "code",
   "execution_count": 796,
   "id": "691345b1-55d4-412e-9f19-ef56aac3b27b",
   "metadata": {},
   "outputs": [],
   "source": [
    "import math as m"
   ]
  },
  {
   "cell_type": "code",
   "execution_count": 798,
   "id": "776c4ea5-badf-4ca7-8d0a-09f4905a6295",
   "metadata": {},
   "outputs": [
    {
     "data": {
      "text/plain": [
       "1.4142135623730951"
      ]
     },
     "execution_count": 798,
     "metadata": {},
     "output_type": "execute_result"
    }
   ],
   "source": [
    "m.sqrt(2)"
   ]
  },
  {
   "cell_type": "code",
   "execution_count": 800,
   "id": "86e0aee0-d0de-4184-8792-f2b3e2eef834",
   "metadata": {},
   "outputs": [
    {
     "data": {
      "text/plain": [
       "3.1622776601683795"
      ]
     },
     "execution_count": 800,
     "metadata": {},
     "output_type": "execute_result"
    }
   ],
   "source": [
    "m.sqrt(10)"
   ]
  },
  {
   "cell_type": "code",
   "execution_count": 802,
   "id": "6842e039-ad77-4402-ba5a-66f282ab892f",
   "metadata": {},
   "outputs": [
    {
     "data": {
      "text/plain": [
       "81.0"
      ]
     },
     "execution_count": 802,
     "metadata": {},
     "output_type": "execute_result"
    }
   ],
   "source": [
    "from math import sqrt,pow # math has many function if you want to call specific function then you use from \n",
    "pow(3,4)"
   ]
  },
  {
   "cell_type": "markdown",
   "id": "000778e7-a2c4-432a-9cd1-ddddca725b37",
   "metadata": {},
   "source": [
    "round(pow(3,4))"
   ]
  },
  {
   "cell_type": "code",
   "execution_count": 805,
   "id": "ba63a1a3-6aee-47b9-85e7-45c1a71f83c1",
   "metadata": {},
   "outputs": [
    {
     "data": {
      "text/plain": [
       "5.0"
      ]
     },
     "execution_count": 805,
     "metadata": {},
     "output_type": "execute_result"
    }
   ],
   "source": [
    "x"
   ]
  },
  {
   "cell_type": "code",
   "execution_count": null,
   "id": "9ab29c6c-02ed-46f0-b658-a47464076374",
   "metadata": {},
   "outputs": [],
   "source": []
  },
  {
   "cell_type": "code",
   "execution_count": null,
   "id": "a1c716b6-34ae-4575-b4e1-5fdc3e5d5d76",
   "metadata": {},
   "outputs": [],
   "source": []
  },
  {
   "cell_type": "code",
   "execution_count": null,
   "id": "3da682b0-a008-4402-a299-c85d81394625",
   "metadata": {},
   "outputs": [],
   "source": []
  },
  {
   "cell_type": "code",
   "execution_count": null,
   "id": "2bbdbe52-a3aa-47ba-9166-73295aaa8941",
   "metadata": {},
   "outputs": [],
   "source": []
  },
  {
   "cell_type": "code",
   "execution_count": null,
   "id": "85f85712-fe04-4478-a7b6-8f3846e5a7a0",
   "metadata": {},
   "outputs": [],
   "source": []
  },
  {
   "cell_type": "code",
   "execution_count": null,
   "id": "121a6353-6b2f-43a5-9498-27116a089651",
   "metadata": {},
   "outputs": [],
   "source": []
  },
  {
   "cell_type": "code",
   "execution_count": null,
   "id": "4cfb6150-d44c-4e7e-b5cb-6b1df56bc632",
   "metadata": {},
   "outputs": [],
   "source": []
  },
  {
   "cell_type": "code",
   "execution_count": null,
   "id": "859e0437-e9f5-41c6-b5e5-38c328626909",
   "metadata": {},
   "outputs": [],
   "source": []
  }
 ],
 "metadata": {
  "kernelspec": {
   "display_name": "Python 3 (ipykernel)",
   "language": "python",
   "name": "python3"
  },
  "language_info": {
   "codemirror_mode": {
    "name": "ipython",
    "version": 3
   },
   "file_extension": ".py",
   "mimetype": "text/x-python",
   "name": "python",
   "nbconvert_exporter": "python",
   "pygments_lexer": "ipython3",
   "version": "3.12.7"
  }
 },
 "nbformat": 4,
 "nbformat_minor": 5
}
